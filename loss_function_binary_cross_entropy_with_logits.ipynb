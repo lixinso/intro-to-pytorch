{
  "nbformat": 4,
  "nbformat_minor": 0,
  "metadata": {
    "colab": {
      "name": "loss_function_binary_cross_entropy_with_logits.ipynb",
      "provenance": [],
      "collapsed_sections": [],
      "authorship_tag": "ABX9TyODPPagHDe6IEKcJNPNkRF2",
      "include_colab_link": true
    },
    "kernelspec": {
      "name": "python3",
      "display_name": "Python 3"
    }
  },
  "cells": [
    {
      "cell_type": "markdown",
      "metadata": {
        "id": "view-in-github",
        "colab_type": "text"
      },
      "source": [
        "<a href=\"https://colab.research.google.com/github/lixinso/sample-intro-to-pytorch/blob/master/loss_function_binary_cross_entropy_with_logits.ipynb\" target=\"_parent\"><img src=\"https://colab.research.google.com/assets/colab-badge.svg\" alt=\"Open In Colab\"/></a>"
      ]
    },
    {
      "cell_type": "code",
      "metadata": {
        "id": "t98dQpvIHOUm",
        "colab_type": "code",
        "colab": {}
      },
      "source": [
        "# https://pytorch.org/docs/stable/nn.functional.html\n",
        "# https://pytorch.org/docs/stable/nn.html#torch.nn.BCEWithLogitsLoss"
      ],
      "execution_count": 0,
      "outputs": []
    },
    {
      "cell_type": "code",
      "metadata": {
        "id": "y1Qp4vVEHnFz",
        "colab_type": "code",
        "colab": {}
      },
      "source": [
        "import torch\n",
        "import torch.nn.functional as F"
      ],
      "execution_count": 0,
      "outputs": []
    },
    {
      "cell_type": "code",
      "metadata": {
        "id": "pfiuJZbVjylO",
        "colab_type": "code",
        "colab": {}
      },
      "source": [
        "def cal_loss(input, target):\n",
        "\n",
        "  loss = F.binary_cross_entropy_with_logits(input, target)\n",
        "  loss.backward()\n",
        "  print(\"input\", input.cpu().detach().numpy())\n",
        "  print(\"target\", target.cpu().detach().numpy())\n",
        "  print(\"loss\", loss.cpu().detach().numpy())"
      ],
      "execution_count": 0,
      "outputs": []
    },
    {
      "cell_type": "code",
      "metadata": {
        "id": "ejnrA9-IkaJE",
        "colab_type": "code",
        "colab": {
          "base_uri": "https://localhost:8080/",
          "height": 68
        },
        "outputId": "a7345fa3-0a8d-4624-eee8-3f257089804f"
      },
      "source": [
        "input = torch.randn(3, requires_grad=True)\n",
        "target = torch.empty(3).random_(2)\n",
        "cal_loss(input, target)"
      ],
      "execution_count": 39,
      "outputs": [
        {
          "output_type": "stream",
          "text": [
            "input [0.06618073 0.11251571 0.91884685]\n",
            "target [1. 1. 0.]\n",
            "loss 0.85122156\n"
          ],
          "name": "stdout"
        }
      ]
    },
    {
      "cell_type": "code",
      "metadata": {
        "id": "mraLhrt8k8ZM",
        "colab_type": "code",
        "colab": {
          "base_uri": "https://localhost:8080/",
          "height": 68
        },
        "outputId": "706937c9-6da3-44d4-9b24-422b3259b4c7"
      },
      "source": [
        "input = torch.tensor([0.9, 0.1, 0.1], requires_grad=True)\n",
        "target = torch.tensor([1.0, 0.0, 0.0])\n",
        "cal_loss(input, target)"
      ],
      "execution_count": 40,
      "outputs": [
        {
          "output_type": "stream",
          "text": [
            "input [0.9 0.1 0.1]\n",
            "target [1. 0. 0.]\n",
            "loss 0.60998243\n"
          ],
          "name": "stdout"
        }
      ]
    },
    {
      "cell_type": "code",
      "metadata": {
        "id": "taNEpJV6llFC",
        "colab_type": "code",
        "colab": {
          "base_uri": "https://localhost:8080/",
          "height": 68
        },
        "outputId": "73657f90-9950-4e6c-914d-fe5d79e85e32"
      },
      "source": [
        "input = torch.tensor([0.33, 0.33, 0.33], requires_grad=True)\n",
        "target = torch.tensor([1.0, 0.0, 0.0])\n",
        "cal_loss(input, target)"
      ],
      "execution_count": 41,
      "outputs": [
        {
          "output_type": "stream",
          "text": [
            "input [0.33 0.33 0.33]\n",
            "target [1. 0. 0.]\n",
            "loss 0.7616984\n"
          ],
          "name": "stdout"
        }
      ]
    },
    {
      "cell_type": "code",
      "metadata": {
        "id": "Q2Jwtn9vmZpy",
        "colab_type": "code",
        "colab": {
          "base_uri": "https://localhost:8080/",
          "height": 68
        },
        "outputId": "46a09c34-85a3-4d33-bcba-161b1655e72c"
      },
      "source": [
        "input = torch.tensor([1.0, 0.0, 0.0], requires_grad=True)\n",
        "target = torch.tensor([1.0, 0.0, 0.0])\n",
        "cal_loss(input, target)\n"
      ],
      "execution_count": 42,
      "outputs": [
        {
          "output_type": "stream",
          "text": [
            "input [1. 0. 0.]\n",
            "target [1. 0. 0.]\n",
            "loss 0.56651866\n"
          ],
          "name": "stdout"
        }
      ]
    }
  ]
}