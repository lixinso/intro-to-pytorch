{
  "nbformat": 4,
  "nbformat_minor": 0,
  "metadata": {
    "colab": {
      "name": "loss_function_binary_cross_entropy_with_logits.ipynb",
      "provenance": [],
      "collapsed_sections": [],
      "authorship_tag": "ABX9TyNz7Dkx2jwtV1pVsg6E3GLX",
      "include_colab_link": true
    },
    "kernelspec": {
      "name": "python3",
      "display_name": "Python 3"
    }
  },
  "cells": [
    {
      "cell_type": "markdown",
      "metadata": {
        "id": "view-in-github",
        "colab_type": "text"
      },
      "source": [
        "<a href=\"https://colab.research.google.com/github/lixinso/sample-intro-to-pytorch/blob/master/loss_function_binary_cross_entropy_with_logits.ipynb\" target=\"_parent\"><img src=\"https://colab.research.google.com/assets/colab-badge.svg\" alt=\"Open In Colab\"/></a>"
      ]
    },
    {
      "cell_type": "code",
      "metadata": {
        "id": "t98dQpvIHOUm",
        "colab_type": "code",
        "colab": {}
      },
      "source": [
        "# https://pytorch.org/docs/stable/nn.functional.html\n",
        "# https://pytorch.org/docs/stable/nn.html#torch.nn.BCEWithLogitsLoss"
      ],
      "execution_count": 0,
      "outputs": []
    },
    {
      "cell_type": "code",
      "metadata": {
        "id": "y1Qp4vVEHnFz",
        "colab_type": "code",
        "colab": {}
      },
      "source": [
        "import torch\n",
        "import torch.nn.functional as F"
      ],
      "execution_count": 0,
      "outputs": []
    },
    {
      "cell_type": "code",
      "metadata": {
        "id": "pfiuJZbVjylO",
        "colab_type": "code",
        "colab": {}
      },
      "source": [
        "def cal_loss(input, target):\n",
        "\n",
        "  loss = F.binary_cross_entropy_with_logits(input, target)\n",
        "  loss.backward()\n",
        "  print(\"input\", input.cpu().detach().numpy())\n",
        "  print(\"target\", target.cpu().detach().numpy())\n",
        "  print(\"loss\", loss.cpu().detach().numpy())\n",
        "\n",
        "  pass"
      ],
      "execution_count": 0,
      "outputs": []
    },
    {
      "cell_type": "code",
      "metadata": {
        "id": "ejnrA9-IkaJE",
        "colab_type": "code",
        "colab": {
          "base_uri": "https://localhost:8080/",
          "height": 68
        },
        "outputId": "6a0b1896-a647-473f-ad03-0e2295f638a8"
      },
      "source": [
        "input = torch.randn(3, requires_grad=True)\n",
        "target = torch.empty(3).random_(2)\n",
        "cal_loss(input, target)"
      ],
      "execution_count": 20,
      "outputs": [
        {
          "output_type": "stream",
          "text": [
            "input [-0.14091098 -0.80198383 -1.0344883 ]\n",
            "target [1. 0. 1.]\n",
            "loss 0.8250532\n"
          ],
          "name": "stdout"
        }
      ]
    }
  ]
}