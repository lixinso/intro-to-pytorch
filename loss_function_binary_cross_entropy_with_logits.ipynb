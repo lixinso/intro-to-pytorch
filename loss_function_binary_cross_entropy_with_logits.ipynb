{
  "nbformat": 4,
  "nbformat_minor": 0,
  "metadata": {
    "colab": {
      "name": "loss_function_binary_cross_entropy_with_logits.ipynb",
      "provenance": [],
      "collapsed_sections": [],
      "authorship_tag": "ABX9TyPp9veBVs5f+tGl840kOfcU",
      "include_colab_link": true
    },
    "kernelspec": {
      "name": "python3",
      "display_name": "Python 3"
    }
  },
  "cells": [
    {
      "cell_type": "markdown",
      "metadata": {
        "id": "view-in-github",
        "colab_type": "text"
      },
      "source": [
        "<a href=\"https://colab.research.google.com/github/lixinso/sample-intro-to-pytorch/blob/master/loss_function_binary_cross_entropy_with_logits.ipynb\" target=\"_parent\"><img src=\"https://colab.research.google.com/assets/colab-badge.svg\" alt=\"Open In Colab\"/></a>"
      ]
    },
    {
      "cell_type": "code",
      "metadata": {
        "id": "t98dQpvIHOUm",
        "colab_type": "code",
        "colab": {}
      },
      "source": [
        "# https://pytorch.org/docs/stable/nn.functional.html"
      ],
      "execution_count": 0,
      "outputs": []
    },
    {
      "cell_type": "code",
      "metadata": {
        "id": "y1Qp4vVEHnFz",
        "colab_type": "code",
        "colab": {}
      },
      "source": [
        "import torch\n",
        "import torch.nn.functional as F\n",
        "input = torch.randn(3, requires_grad=True)\n",
        "target = torch.empty(3).random_(2)\n",
        "\n",
        "loss = F.binary_cross_entropy_with_logits(input, target)\n",
        "loss.backward()"
      ],
      "execution_count": 0,
      "outputs": []
    },
    {
      "cell_type": "code",
      "metadata": {
        "id": "0cojv9NWIA0l",
        "colab_type": "code",
        "colab": {
          "base_uri": "https://localhost:8080/",
          "height": 68
        },
        "outputId": "0623e0b5-05c5-4e0a-83af-da7012b582e3"
      },
      "source": [
        "print(\"input\", input.cpu().detach().numpy())\n",
        "print(\"target\", target.cpu().detach().numpy())\n",
        "print(\"loss\", loss.cpu().detach().numpy())"
      ],
      "execution_count": 16,
      "outputs": [
        {
          "output_type": "stream",
          "text": [
            "input [-0.24191989 -0.6190933  -0.13662915]\n",
            "target [1. 1. 1.]\n",
            "loss 0.8783519\n"
          ],
          "name": "stdout"
        }
      ]
    }
  ]
}