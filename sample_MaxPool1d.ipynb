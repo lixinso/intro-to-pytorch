{
  "nbformat": 4,
  "nbformat_minor": 0,
  "metadata": {
    "colab": {
      "name": "sample_MaxPool1d.ipynb",
      "provenance": [],
      "include_colab_link": true
    },
    "kernelspec": {
      "name": "python3",
      "display_name": "Python 3"
    }
  },
  "cells": [
    {
      "cell_type": "markdown",
      "metadata": {
        "id": "view-in-github",
        "colab_type": "text"
      },
      "source": [
        "<a href=\"https://colab.research.google.com/github/lixinso/sample-intro-to-pytorch/blob/master/sample_MaxPool1d.ipynb\" target=\"_parent\"><img src=\"https://colab.research.google.com/assets/colab-badge.svg\" alt=\"Open In Colab\"/></a>"
      ]
    },
    {
      "cell_type": "code",
      "metadata": {
        "id": "JQYgmQxCXUkF",
        "colab_type": "code",
        "colab": {}
      },
      "source": [
        "https://pytorch.org/docs/stable/nn.html#torch.nn.MaxPool1d\n",
        "https://pytorch.org/docs/stable/nn.functional.html#max-pool1d"
      ],
      "execution_count": 0,
      "outputs": []
    },
    {
      "cell_type": "markdown",
      "metadata": {
        "id": "nXsXhmhSXZhD",
        "colab_type": "text"
      },
      "source": [
        ""
      ]
    },
    {
      "cell_type": "code",
      "metadata": {
        "id": "H9DrmYamXYap",
        "colab_type": "code",
        "colab": {
          "base_uri": "https://localhost:8080/",
          "height": 51
        },
        "outputId": "2841f417-59c0-4476-c114-737d54b74570"
      },
      "source": [
        "import torch\n",
        "\n",
        "# pool of size=3, stride=2\n",
        "m = torch.nn.MaxPool1d(3, stride=1)\n",
        "input = torch.randn(20, 16, 50)\n",
        "output = m(input)\n",
        "\n",
        "print(input.shape)\n",
        "print(output.shape)"
      ],
      "execution_count": 4,
      "outputs": [
        {
          "output_type": "stream",
          "text": [
            "torch.Size([20, 16, 50])\n",
            "torch.Size([20, 16, 48])\n"
          ],
          "name": "stdout"
        }
      ]
    },
    {
      "cell_type": "markdown",
      "metadata": {
        "id": "F8vfogmmXXDe",
        "colab_type": "text"
      },
      "source": [
        ""
      ]
    }
  ]
}