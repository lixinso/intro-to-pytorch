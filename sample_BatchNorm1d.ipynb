{
  "nbformat": 4,
  "nbformat_minor": 0,
  "metadata": {
    "colab": {
      "name": "sample-BatchNorm1d.ipynb",
      "provenance": [],
      "include_colab_link": true
    },
    "kernelspec": {
      "name": "python3",
      "display_name": "Python 3"
    }
  },
  "cells": [
    {
      "cell_type": "markdown",
      "metadata": {
        "id": "view-in-github",
        "colab_type": "text"
      },
      "source": [
        "<a href=\"https://colab.research.google.com/github/lixinso/sample-intro-to-pytorch/blob/master/sample_BatchNorm1d.ipynb\" target=\"_parent\"><img src=\"https://colab.research.google.com/assets/colab-badge.svg\" alt=\"Open In Colab\"/></a>"
      ]
    },
    {
      "cell_type": "code",
      "metadata": {
        "id": "XuvGrv0_feC3",
        "colab_type": "code",
        "colab": {}
      },
      "source": [
        ""
      ],
      "execution_count": 0,
      "outputs": []
    },
    {
      "cell_type": "markdown",
      "metadata": {
        "id": "64X6gCYffi_M",
        "colab_type": "text"
      },
      "source": [
        "https://pytorch.org/docs/stable/nn.html#torch.nn.BatchNorm1d"
      ]
    },
    {
      "cell_type": "code",
      "metadata": {
        "id": "6eCbQsNbfjyf",
        "colab_type": "code",
        "colab": {
          "base_uri": "https://localhost:8080/",
          "height": 51
        },
        "outputId": "e631b425-f941-49db-f33e-1268581958d9"
      },
      "source": [
        "import torch\n",
        "\n",
        "# With Learnable Parameters\n",
        "m = torch.nn.BatchNorm1d(100)\n",
        "# Without Learnable Parameters\n",
        "m = torch.nn.BatchNorm1d(100, affine=False)\n",
        "input = torch.randn(20, 100)\n",
        "output = m(input)\n",
        "\n",
        "print(input.shape)\n",
        "print(output.shape)"
      ],
      "execution_count": 2,
      "outputs": [
        {
          "output_type": "stream",
          "text": [
            "torch.Size([20, 100])\n",
            "torch.Size([20, 100])\n"
          ],
          "name": "stdout"
        }
      ]
    },
    {
      "cell_type": "code",
      "metadata": {
        "id": "uWub6p2UfryT",
        "colab_type": "code",
        "colab": {
          "base_uri": "https://localhost:8080/",
          "height": 136
        },
        "outputId": "0099dd2a-7409-4287-b546-0e4c4b219374"
      },
      "source": [
        "print(input)"
      ],
      "execution_count": 3,
      "outputs": [
        {
          "output_type": "stream",
          "text": [
            "tensor([[ 2.2983, -0.8146,  1.3288,  ..., -2.6000,  0.9546, -0.0429],\n",
            "        [-2.1433, -0.9870,  0.1129,  ...,  0.6868,  0.5298,  1.1466],\n",
            "        [ 0.1689, -1.0848,  0.7548,  ..., -0.2351, -0.5152, -0.2127],\n",
            "        ...,\n",
            "        [-0.2059, -0.6672, -0.6648,  ..., -0.2965,  1.5609,  1.1753],\n",
            "        [-1.0513,  2.3733,  0.9086,  ...,  0.0963,  0.3400,  0.9196],\n",
            "        [-0.2405, -0.6605,  0.6850,  ..., -0.3181,  2.2073, -0.3979]])\n"
          ],
          "name": "stdout"
        }
      ]
    },
    {
      "cell_type": "code",
      "metadata": {
        "id": "VyGTA1Tcf994",
        "colab_type": "code",
        "colab": {
          "base_uri": "https://localhost:8080/",
          "height": 136
        },
        "outputId": "012d8856-654c-4ea1-b817-cd8667619b60"
      },
      "source": [
        "print(output)"
      ],
      "execution_count": 4,
      "outputs": [
        {
          "output_type": "stream",
          "text": [
            "tensor([[ 2.2492, -0.9366,  0.8607,  ..., -3.0786,  0.8816, -0.1331],\n",
            "        [-2.1658, -1.1050, -0.2863,  ...,  0.8606,  0.4663,  1.3302],\n",
            "        [ 0.1326, -1.2006,  0.3192,  ..., -0.2443, -0.5550, -0.3421],\n",
            "        ...,\n",
            "        [-0.2400, -0.7925, -1.0200,  ..., -0.3179,  1.4742,  1.3655],\n",
            "        [-1.0803,  2.1786,  0.4643,  ...,  0.1528,  0.2809,  1.0509],\n",
            "        [-0.2744, -0.7859,  0.2533,  ..., -0.3438,  2.1060, -0.5699]])\n"
          ],
          "name": "stdout"
        }
      ]
    },
    {
      "cell_type": "code",
      "metadata": {
        "id": "9XJ0YFvJf_Qg",
        "colab_type": "code",
        "colab": {}
      },
      "source": [
        ""
      ],
      "execution_count": 0,
      "outputs": []
    }
  ]
}