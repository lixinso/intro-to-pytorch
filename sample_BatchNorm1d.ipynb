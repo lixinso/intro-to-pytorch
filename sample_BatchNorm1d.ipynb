{
  "nbformat": 4,
  "nbformat_minor": 0,
  "metadata": {
    "colab": {
      "name": "sample-BatchNorm1d.ipynb",
      "provenance": [],
      "include_colab_link": true
    },
    "kernelspec": {
      "name": "python3",
      "display_name": "Python 3"
    }
  },
  "cells": [
    {
      "cell_type": "markdown",
      "metadata": {
        "id": "view-in-github",
        "colab_type": "text"
      },
      "source": [
        "<a href=\"https://colab.research.google.com/github/lixinso/sample-intro-to-pytorch/blob/master/sample_BatchNorm1d.ipynb\" target=\"_parent\"><img src=\"https://colab.research.google.com/assets/colab-badge.svg\" alt=\"Open In Colab\"/></a>"
      ]
    },
    {
      "cell_type": "code",
      "metadata": {
        "id": "XuvGrv0_feC3",
        "colab_type": "code",
        "colab": {}
      },
      "source": [
        ""
      ],
      "execution_count": 0,
      "outputs": []
    },
    {
      "cell_type": "markdown",
      "metadata": {
        "id": "64X6gCYffi_M",
        "colab_type": "text"
      },
      "source": [
        "https://pytorch.org/docs/stable/nn.html#torch.nn.BatchNorm1d"
      ]
    },
    {
      "cell_type": "code",
      "metadata": {
        "id": "6eCbQsNbfjyf",
        "colab_type": "code",
        "colab": {
          "base_uri": "https://localhost:8080/",
          "height": 51
        },
        "outputId": "e631b425-f941-49db-f33e-1268581958d9"
      },
      "source": [
        "import torch\n",
        "\n",
        "# With Learnable Parameters\n",
        "m = torch.nn.BatchNorm1d(100)\n",
        "# Without Learnable Parameters\n",
        "m = torch.nn.BatchNorm1d(100, affine=False)\n",
        "input = torch.randn(20, 100)\n",
        "output = m(input)\n",
        "\n",
        "print(input.shape)\n",
        "print(output.shape)"
      ],
      "execution_count": 2,
      "outputs": [
        {
          "output_type": "stream",
          "text": [
            "torch.Size([20, 100])\n",
            "torch.Size([20, 100])\n"
          ],
          "name": "stdout"
        }
      ]
    },
    {
      "cell_type": "code",
      "metadata": {
        "id": "uWub6p2UfryT",
        "colab_type": "code",
        "colab": {
          "base_uri": "https://localhost:8080/",
          "height": 136
        },
        "outputId": "0099dd2a-7409-4287-b546-0e4c4b219374"
      },
      "source": [
        "print(input)"
      ],
      "execution_count": 3,
      "outputs": [
        {
          "output_type": "stream",
          "text": [
            "tensor([[ 2.2983, -0.8146,  1.3288,  ..., -2.6000,  0.9546, -0.0429],\n",
            "        [-2.1433, -0.9870,  0.1129,  ...,  0.6868,  0.5298,  1.1466],\n",
            "        [ 0.1689, -1.0848,  0.7548,  ..., -0.2351, -0.5152, -0.2127],\n",
            "        ...,\n",
            "        [-0.2059, -0.6672, -0.6648,  ..., -0.2965,  1.5609,  1.1753],\n",
            "        [-1.0513,  2.3733,  0.9086,  ...,  0.0963,  0.3400,  0.9196],\n",
            "        [-0.2405, -0.6605,  0.6850,  ..., -0.3181,  2.2073, -0.3979]])\n"
          ],
          "name": "stdout"
        }
      ]
    },
    {
      "cell_type": "code",
      "metadata": {
        "id": "VyGTA1Tcf994",
        "colab_type": "code",
        "colab": {
          "base_uri": "https://localhost:8080/",
          "height": 136
        },
        "outputId": "012d8856-654c-4ea1-b817-cd8667619b60"
      },
      "source": [
        "print(output)"
      ],
      "execution_count": 4,
      "outputs": [
        {
          "output_type": "stream",
          "text": [
            "tensor([[ 2.2492, -0.9366,  0.8607,  ..., -3.0786,  0.8816, -0.1331],\n",
            "        [-2.1658, -1.1050, -0.2863,  ...,  0.8606,  0.4663,  1.3302],\n",
            "        [ 0.1326, -1.2006,  0.3192,  ..., -0.2443, -0.5550, -0.3421],\n",
            "        ...,\n",
            "        [-0.2400, -0.7925, -1.0200,  ..., -0.3179,  1.4742,  1.3655],\n",
            "        [-1.0803,  2.1786,  0.4643,  ...,  0.1528,  0.2809,  1.0509],\n",
            "        [-0.2744, -0.7859,  0.2533,  ..., -0.3438,  2.1060, -0.5699]])\n"
          ],
          "name": "stdout"
        }
      ]
    },
    {
      "cell_type": "code",
      "metadata": {
        "id": "9XJ0YFvJf_Qg",
        "colab_type": "code",
        "colab": {
          "base_uri": "https://localhost:8080/",
          "height": 34
        },
        "outputId": "a35512f1-260a-43eb-f703-1fdb093edbd5"
      },
      "source": [
        "m"
      ],
      "execution_count": 5,
      "outputs": [
        {
          "output_type": "execute_result",
          "data": {
            "text/plain": [
              "BatchNorm1d(100, eps=1e-05, momentum=0.1, affine=False, track_running_stats=True)"
            ]
          },
          "metadata": {
            "tags": []
          },
          "execution_count": 5
        }
      ]
    },
    {
      "cell_type": "code",
      "metadata": {
        "id": "YHOzQVQYgbEF",
        "colab_type": "code",
        "colab": {
          "base_uri": "https://localhost:8080/",
          "height": 1000
        },
        "outputId": "01c84bd7-23cc-4432-f226-f71bb8ee3c35"
      },
      "source": [
        "dir(m)"
      ],
      "execution_count": 6,
      "outputs": [
        {
          "output_type": "execute_result",
          "data": {
            "text/plain": [
              "['__call__',\n",
              " '__class__',\n",
              " '__constants__',\n",
              " '__delattr__',\n",
              " '__dict__',\n",
              " '__dir__',\n",
              " '__doc__',\n",
              " '__eq__',\n",
              " '__format__',\n",
              " '__ge__',\n",
              " '__getattr__',\n",
              " '__getattribute__',\n",
              " '__gt__',\n",
              " '__hash__',\n",
              " '__init__',\n",
              " '__init_subclass__',\n",
              " '__le__',\n",
              " '__lt__',\n",
              " '__module__',\n",
              " '__ne__',\n",
              " '__new__',\n",
              " '__reduce__',\n",
              " '__reduce_ex__',\n",
              " '__repr__',\n",
              " '__setattr__',\n",
              " '__setstate__',\n",
              " '__sizeof__',\n",
              " '__str__',\n",
              " '__subclasshook__',\n",
              " '__weakref__',\n",
              " '_apply',\n",
              " '_backward_hooks',\n",
              " '_buffers',\n",
              " '_check_input_dim',\n",
              " '_forward_hooks',\n",
              " '_forward_pre_hooks',\n",
              " '_get_name',\n",
              " '_load_from_state_dict',\n",
              " '_load_state_dict_pre_hooks',\n",
              " '_modules',\n",
              " '_named_members',\n",
              " '_parameters',\n",
              " '_register_load_state_dict_pre_hook',\n",
              " '_register_state_dict_hook',\n",
              " '_save_to_state_dict',\n",
              " '_slow_forward',\n",
              " '_state_dict_hooks',\n",
              " '_tracing_name',\n",
              " '_version',\n",
              " 'add_module',\n",
              " 'affine',\n",
              " 'apply',\n",
              " 'bias',\n",
              " 'buffers',\n",
              " 'children',\n",
              " 'cpu',\n",
              " 'cuda',\n",
              " 'double',\n",
              " 'dump_patches',\n",
              " 'eps',\n",
              " 'eval',\n",
              " 'extra_repr',\n",
              " 'float',\n",
              " 'forward',\n",
              " 'half',\n",
              " 'load_state_dict',\n",
              " 'modules',\n",
              " 'momentum',\n",
              " 'named_buffers',\n",
              " 'named_children',\n",
              " 'named_modules',\n",
              " 'named_parameters',\n",
              " 'num_batches_tracked',\n",
              " 'num_features',\n",
              " 'parameters',\n",
              " 'register_backward_hook',\n",
              " 'register_buffer',\n",
              " 'register_forward_hook',\n",
              " 'register_forward_pre_hook',\n",
              " 'register_parameter',\n",
              " 'requires_grad_',\n",
              " 'reset_parameters',\n",
              " 'reset_running_stats',\n",
              " 'running_mean',\n",
              " 'running_var',\n",
              " 'share_memory',\n",
              " 'state_dict',\n",
              " 'to',\n",
              " 'track_running_stats',\n",
              " 'train',\n",
              " 'training',\n",
              " 'type',\n",
              " 'weight',\n",
              " 'zero_grad']"
            ]
          },
          "metadata": {
            "tags": []
          },
          "execution_count": 6
        }
      ]
    },
    {
      "cell_type": "code",
      "metadata": {
        "id": "kWWWTZrGgdky",
        "colab_type": "code",
        "colab": {}
      },
      "source": [
        "m.weight"
      ],
      "execution_count": 0,
      "outputs": []
    },
    {
      "cell_type": "code",
      "metadata": {
        "id": "trYxesbVgfs_",
        "colab_type": "code",
        "colab": {
          "base_uri": "https://localhost:8080/",
          "height": 34
        },
        "outputId": "beb02528-6e49-4f2a-b1eb-c835cd597b03"
      },
      "source": [
        "m.running_mean.shape"
      ],
      "execution_count": 10,
      "outputs": [
        {
          "output_type": "execute_result",
          "data": {
            "text/plain": [
              "torch.Size([100])"
            ]
          },
          "metadata": {
            "tags": []
          },
          "execution_count": 10
        }
      ]
    },
    {
      "cell_type": "code",
      "metadata": {
        "id": "PzTV-JQvgkSY",
        "colab_type": "code",
        "colab": {
          "base_uri": "https://localhost:8080/",
          "height": 34
        },
        "outputId": "1f94da81-7343-41df-9b8e-3dfd06c25618"
      },
      "source": [
        "m.running_var.shape"
      ],
      "execution_count": 11,
      "outputs": [
        {
          "output_type": "execute_result",
          "data": {
            "text/plain": [
              "torch.Size([100])"
            ]
          },
          "metadata": {
            "tags": []
          },
          "execution_count": 11
        }
      ]
    },
    {
      "cell_type": "code",
      "metadata": {
        "id": "31DpFUuPg3cE",
        "colab_type": "code",
        "colab": {}
      },
      "source": [
        ""
      ],
      "execution_count": 0,
      "outputs": []
    }
  ]
}