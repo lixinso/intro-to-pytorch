{
  "nbformat": 4,
  "nbformat_minor": 0,
  "metadata": {
    "colab": {
      "name": "AdaptiveAvgPool2d_Sample.ipynb",
      "provenance": [],
      "authorship_tag": "ABX9TyMZr1Ysv4rCegmrSu4qbgDD",
      "include_colab_link": true
    },
    "kernelspec": {
      "name": "python3",
      "display_name": "Python 3"
    }
  },
  "cells": [
    {
      "cell_type": "markdown",
      "metadata": {
        "id": "view-in-github",
        "colab_type": "text"
      },
      "source": [
        "<a href=\"https://colab.research.google.com/github/lixinso/sample-intro-to-pytorch/blob/master/AdaptiveAvgPool2d_Sample.ipynb\" target=\"_parent\"><img src=\"https://colab.research.google.com/assets/colab-badge.svg\" alt=\"Open In Colab\"/></a>"
      ]
    },
    {
      "cell_type": "markdown",
      "metadata": {
        "id": "Ohe-saekeuHJ",
        "colab_type": "text"
      },
      "source": [
        "#https://pytorch.org/docs/master/nn.html#torch.nn.AdaptiveAvgPool2d\n",
        "\n",
        "Applies a 2D adaptive average pooling over an input signal composed of several input planes.\n",
        "\n",
        "The output is of size H x W, for any input size. The number of output features is equal to the number of input planes."
      ]
    },
    {
      "cell_type": "code",
      "metadata": {
        "id": "22-6-5QHe1pS",
        "colab_type": "code",
        "colab": {}
      },
      "source": [
        "from torch import nn\n",
        "import torch\n"
      ],
      "execution_count": 0,
      "outputs": []
    },
    {
      "cell_type": "code",
      "metadata": {
        "id": "CqEDVz4GfKro",
        "colab_type": "code",
        "colab": {
          "base_uri": "https://localhost:8080/",
          "height": 51
        },
        "outputId": "6fb59271-7675-47dc-decd-05db26a1c335"
      },
      "source": [
        "# Target output size of 5x7\n",
        "m = nn.AdaptiveAvgPool2d((5,7))\n",
        "input = torch.randn(1, 64, 8, 9)\n",
        "print(input.shape)\n",
        "output = m(input)\n",
        "print(output.shape)"
      ],
      "execution_count": 6,
      "outputs": [
        {
          "output_type": "stream",
          "text": [
            "torch.Size([1, 64, 8, 9])\n",
            "torch.Size([1, 64, 5, 7])\n"
          ],
          "name": "stdout"
        }
      ]
    },
    {
      "cell_type": "code",
      "metadata": {
        "id": "NGKd4y7vfdWV",
        "colab_type": "code",
        "colab": {
          "base_uri": "https://localhost:8080/",
          "height": 51
        },
        "outputId": "907420df-5cb3-4d35-921c-837a9c4c7cf5"
      },
      "source": [
        "#target output size of 7x7 (square)\n",
        "m = nn.AdaptiveAvgPool2d(7)\n",
        "input = torch.randn(1,64, 10,9)\n",
        "print(input.shape)\n",
        "output = m(input)\n",
        "print(output.shape)"
      ],
      "execution_count": 8,
      "outputs": [
        {
          "output_type": "stream",
          "text": [
            "torch.Size([1, 64, 10, 9])\n",
            "torch.Size([1, 64, 7, 7])\n"
          ],
          "name": "stdout"
        }
      ]
    },
    {
      "cell_type": "code",
      "metadata": {
        "id": "zGP6cG4sgChN",
        "colab_type": "code",
        "colab": {
          "base_uri": "https://localhost:8080/",
          "height": 51
        },
        "outputId": "04d64701-5eff-45ce-f40c-605f0b3300b0"
      },
      "source": [
        "# target output size of 10x7\n",
        "m = nn.AdaptiveAvgPool2d((None, 7))\n",
        "input = torch.randn(1, 64, 10, 9)\n",
        "print(input.shape)\n",
        "output = m(input)\n",
        "print(output.shape)"
      ],
      "execution_count": 9,
      "outputs": [
        {
          "output_type": "stream",
          "text": [
            "torch.Size([1, 64, 10, 9])\n",
            "torch.Size([1, 64, 10, 7])\n"
          ],
          "name": "stdout"
        }
      ]
    },
    {
      "cell_type": "code",
      "metadata": {
        "id": "C5L5KTx_gTPw",
        "colab_type": "code",
        "colab": {}
      },
      "source": [
        ""
      ],
      "execution_count": 0,
      "outputs": []
    }
  ]
}