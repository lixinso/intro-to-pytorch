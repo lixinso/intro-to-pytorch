{
  "nbformat": 4,
  "nbformat_minor": 0,
  "metadata": {
    "colab": {
      "name": "Tensor_Repeat.ipynb",
      "provenance": [],
      "collapsed_sections": [],
      "authorship_tag": "ABX9TyN0ttk/2DZ9ANbAYPrqk0Qt",
      "include_colab_link": true
    },
    "kernelspec": {
      "name": "python3",
      "display_name": "Python 3"
    }
  },
  "cells": [
    {
      "cell_type": "markdown",
      "metadata": {
        "id": "view-in-github",
        "colab_type": "text"
      },
      "source": [
        "<a href=\"https://colab.research.google.com/github/lixinso/sample-intro-to-pytorch/blob/master/Tensor_Repeat.ipynb\" target=\"_parent\"><img src=\"https://colab.research.google.com/assets/colab-badge.svg\" alt=\"Open In Colab\"/></a>"
      ]
    },
    {
      "cell_type": "code",
      "metadata": {
        "id": "4iTDl2DT7V3m",
        "colab_type": "code",
        "colab": {}
      },
      "source": [
        "import torch"
      ],
      "execution_count": 0,
      "outputs": []
    },
    {
      "cell_type": "code",
      "metadata": {
        "id": "IfWneSPM7oeD",
        "colab_type": "code",
        "colab": {}
      },
      "source": [
        "A = torch.randn([2, 14])"
      ],
      "execution_count": 0,
      "outputs": []
    },
    {
      "cell_type": "code",
      "metadata": {
        "id": "xuB2SNj87pNP",
        "colab_type": "code",
        "colab": {
          "base_uri": "https://localhost:8080/",
          "height": 85
        },
        "outputId": "ee6b610c-fcb8-405c-ec2a-7361304a8994"
      },
      "source": [
        "A"
      ],
      "execution_count": 5,
      "outputs": [
        {
          "output_type": "execute_result",
          "data": {
            "text/plain": [
              "tensor([[-0.0199,  0.0736,  0.6777,  0.8175,  0.4117,  0.3633,  1.3836,  0.1230,\n",
              "         -0.2313,  0.4255, -0.3102, -0.3542,  2.2938,  1.1383],\n",
              "        [-0.3971, -0.6114,  0.1672, -1.0292,  0.1508,  1.0043,  0.4183,  0.0356,\n",
              "         -0.1380,  1.0202, -0.1451, -0.6445,  1.7214, -0.4313]])"
            ]
          },
          "metadata": {
            "tags": []
          },
          "execution_count": 5
        }
      ]
    },
    {
      "cell_type": "code",
      "metadata": {
        "id": "5lxp95hL73rN",
        "colab_type": "code",
        "colab": {}
      },
      "source": [
        "Ar = A.repeat(5,1)\n"
      ],
      "execution_count": 0,
      "outputs": []
    },
    {
      "cell_type": "code",
      "metadata": {
        "id": "s0oyAakY7-ej",
        "colab_type": "code",
        "colab": {
          "base_uri": "https://localhost:8080/",
          "height": 357
        },
        "outputId": "5affceff-b2ef-413c-b87a-9cba2401f255"
      },
      "source": [
        "Ar"
      ],
      "execution_count": 8,
      "outputs": [
        {
          "output_type": "execute_result",
          "data": {
            "text/plain": [
              "tensor([[-0.0199,  0.0736,  0.6777,  0.8175,  0.4117,  0.3633,  1.3836,  0.1230,\n",
              "         -0.2313,  0.4255, -0.3102, -0.3542,  2.2938,  1.1383],\n",
              "        [-0.3971, -0.6114,  0.1672, -1.0292,  0.1508,  1.0043,  0.4183,  0.0356,\n",
              "         -0.1380,  1.0202, -0.1451, -0.6445,  1.7214, -0.4313],\n",
              "        [-0.0199,  0.0736,  0.6777,  0.8175,  0.4117,  0.3633,  1.3836,  0.1230,\n",
              "         -0.2313,  0.4255, -0.3102, -0.3542,  2.2938,  1.1383],\n",
              "        [-0.3971, -0.6114,  0.1672, -1.0292,  0.1508,  1.0043,  0.4183,  0.0356,\n",
              "         -0.1380,  1.0202, -0.1451, -0.6445,  1.7214, -0.4313],\n",
              "        [-0.0199,  0.0736,  0.6777,  0.8175,  0.4117,  0.3633,  1.3836,  0.1230,\n",
              "         -0.2313,  0.4255, -0.3102, -0.3542,  2.2938,  1.1383],\n",
              "        [-0.3971, -0.6114,  0.1672, -1.0292,  0.1508,  1.0043,  0.4183,  0.0356,\n",
              "         -0.1380,  1.0202, -0.1451, -0.6445,  1.7214, -0.4313],\n",
              "        [-0.0199,  0.0736,  0.6777,  0.8175,  0.4117,  0.3633,  1.3836,  0.1230,\n",
              "         -0.2313,  0.4255, -0.3102, -0.3542,  2.2938,  1.1383],\n",
              "        [-0.3971, -0.6114,  0.1672, -1.0292,  0.1508,  1.0043,  0.4183,  0.0356,\n",
              "         -0.1380,  1.0202, -0.1451, -0.6445,  1.7214, -0.4313],\n",
              "        [-0.0199,  0.0736,  0.6777,  0.8175,  0.4117,  0.3633,  1.3836,  0.1230,\n",
              "         -0.2313,  0.4255, -0.3102, -0.3542,  2.2938,  1.1383],\n",
              "        [-0.3971, -0.6114,  0.1672, -1.0292,  0.1508,  1.0043,  0.4183,  0.0356,\n",
              "         -0.1380,  1.0202, -0.1451, -0.6445,  1.7214, -0.4313]])"
            ]
          },
          "metadata": {
            "tags": []
          },
          "execution_count": 8
        }
      ]
    },
    {
      "cell_type": "code",
      "metadata": {
        "id": "sQk7CJ-b8JFL",
        "colab_type": "code",
        "colab": {}
      },
      "source": [
        ""
      ],
      "execution_count": 0,
      "outputs": []
    }
  ]
}