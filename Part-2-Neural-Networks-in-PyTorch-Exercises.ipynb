{
 "cells": [
  {
   "cell_type": "markdown",
   "metadata": {},
   "source": [
    "# Neural networks with PyTorch\n",
    "\n",
    "Deep learning networks tend to be massive with dozens or hundreds of layers, that's where the term \"deep\" comes from. You can build one of these deep networks using only weight matrices as we did in the previous notebook, but in general it's very cumbersome and difficult to implement. PyTorch has a nice module `nn` that provides a nice way to efficiently build large neural networks."
   ]
  },
  {
   "cell_type": "code",
   "execution_count": 1,
   "metadata": {},
   "outputs": [],
   "source": [
    "# Import necessary packages\n",
    "\n",
    "%matplotlib inline\n",
    "%config InlineBackend.figure_format = 'retina'\n",
    "\n",
    "import numpy as np\n",
    "import torch\n",
    "\n",
    "#import helper\n",
    "\n",
    "import matplotlib.pyplot as plt"
   ]
  },
  {
   "cell_type": "markdown",
   "metadata": {},
   "source": [
    "\n",
    "Now we're going to build a larger network that can solve a (formerly) difficult problem, identifying text in an image. Here we'll use the MNIST dataset which consists of greyscale handwritten digits. Each image is 28x28 pixels, you can see a sample below\n",
    "\n",
    "<img src='assets/mnist.png'>\n",
    "\n",
    "Our goal is to build a neural network that can take one of these images and predict the digit in the image.\n",
    "\n",
    "First up, we need to get our dataset. This is provided through the `torchvision` package. The code below will download the MNIST dataset, then create training and test datasets for us. Don't worry too much about the details here, you'll learn more about this later."
   ]
  },
  {
   "cell_type": "code",
   "execution_count": 2,
   "metadata": {},
   "outputs": [],
   "source": [
    "### Run this cell\n",
    "\n",
    "from torchvision import datasets, transforms\n",
    "\n",
    "# Define a transform to normalize the data\n",
    "transform = transforms.Compose([transforms.ToTensor(),\n",
    "                              transforms.Normalize((0.5,), (0.5,)),\n",
    "                              ])\n",
    "\n",
    "# Download and load the training data\n",
    "trainset = datasets.MNIST('~/.pytorch/MNIST_data/', download=True, train=True, transform=transform)\n",
    "trainloader = torch.utils.data.DataLoader(trainset, batch_size=64, shuffle=True)"
   ]
  },
  {
   "cell_type": "markdown",
   "metadata": {},
   "source": [
    "We have the training data loaded into `trainloader` and we make that an iterator with `iter(trainloader)`. Later, we'll use this to loop through the dataset for training, like\n",
    "\n",
    "```python\n",
    "for image, label in trainloader:\n",
    "    ## do things with images and labels\n",
    "```\n",
    "\n",
    "You'll notice I created the `trainloader` with a batch size of 64, and `shuffle=True`. The batch size is the number of images we get in one iteration from the data loader and pass through our network, often called a *batch*. And `shuffle=True` tells it to shuffle the dataset every time we start going through the data loader again. But here I'm just grabbing the first batch so we can check out the data. We can see below that `images` is just a tensor with size `(64, 1, 28, 28)`. So, 64 images per batch, 1 color channel, and 28x28 images."
   ]
  },
  {
   "cell_type": "code",
   "execution_count": 3,
   "metadata": {},
   "outputs": [
    {
     "name": "stdout",
     "output_type": "stream",
     "text": [
      "<class 'torch.Tensor'>\n",
      "torch.Size([64, 1, 28, 28])\n",
      "torch.Size([64])\n"
     ]
    }
   ],
   "source": [
    "dataiter = iter(trainloader)\n",
    "images, labels = dataiter.next()\n",
    "print(type(images))\n",
    "print(images.shape)\n",
    "print(labels.shape)"
   ]
  },
  {
   "cell_type": "markdown",
   "metadata": {},
   "source": [
    "This is what one of the images looks like. "
   ]
  },
  {
   "cell_type": "code",
   "execution_count": 4,
   "metadata": {},
   "outputs": [
    {
     "data": {
      "image/png": "[encoded data removed]",
      "text/plain": [
       "<Figure size 432x288 with 1 Axes>"
      ]
     },
     "metadata": {
      "image/png": {
       "height": 250,
       "width": 253
      },
      "needs_background": "light"
     },
     "output_type": "display_data"
    }
   ],
   "source": [
    "plt.imshow(images[1].numpy().squeeze(), cmap='Greys_r');"
   ]
  },
  {
   "cell_type": "markdown",
   "metadata": {},
   "source": [
    "First, let's try to build a simple network for this dataset using weight matrices and matrix multiplications. Then, we'll see how to do it using PyTorch's `nn` module which provides a much more convenient and powerful method for defining network architectures.\n",
    "\n",
    "The networks you've seen so far are called *fully-connected* or *dense* networks. Each unit in one layer is connected to each unit in the next layer. In fully-connected networks, the input to each layer must be a one-dimensional vector (which can be stacked into a 2D tensor as a batch of multiple examples). However, our images are 28x28 2D tensors, so we need to convert them into 1D vectors. Thinking about sizes, we need to convert the batch of images with shape `(64, 1, 28, 28)` to a have a shape of `(64, 784)`, 784 is 28 times 28. This is typically called *flattening*, we flattened the 2D images into 1D vectors.\n",
    "\n",
    "Previously you built a network with one output unit. Here we need 10 output units, one for each digit. We want our network to predict the digit shown in an image, so what we'll do is calculate probabilities that the image is of any one digit or class. This ends up being a discrete probability distribution over the classes (digits) that tells us the most likely class for the image. That means we need 10 output units for the 10 classes (digits). We'll see how to convert the network output into a probability distribution next.\n",
    "\n",
    "> **Exercise:** Flatten the batch of images `images`. Then build a multi-layer network with 784 input units, 256 hidden units, and 10 output units using random tensors for the weights and biases. For now, use a sigmoid activation for the hidden layer. Leave the output layer without an activation, we'll add one that gives us a probability distribution next."
   ]
  },
  {
   "cell_type": "code",
   "execution_count": 5,
   "metadata": {},
   "outputs": [],
   "source": [
    "## Your solution\n",
    "def activation(x):\n",
    "    return 1/(1+torch.exp(-x))\n",
    "\n",
    "#Flatten the input image\n",
    "inputs = images.view(images.shape[0], -1)\n",
    "\n",
    "#Create parameters\n",
    "w1 = torch.randn(784, 256)\n",
    "b1 = torch.randn(256)\n",
    "\n",
    "w2 = torch.randn(256, 10)\n",
    "b2 = torch.randn(10)\n",
    "\n",
    "h = activation(torch.mm(inputs, w1) + b1)\n",
    "\n",
    "\n",
    "out = torch.mm(h, w2) + b2# output of your network, should have shape (64,10)"
   ]
  },
  {
   "cell_type": "markdown",
   "metadata": {},
   "source": [
    "Now we have 10 outputs for our network. We want to pass in an image to our network and get out a probability distribution over the classes that tells us the likely class(es) the image belongs to. Something that looks like this:\n",
    "<img src='assets/image_distribution.png' width=500px>\n",
    "\n",
    "Here we see that the probability for each class is roughly the same. This is representing an untrained network, it hasn't seen any data yet so it just returns a uniform distribution with equal probabilities for each class.\n",
    "\n",
    "To calculate this probability distribution, we often use the [**softmax** function](https://en.wikipedia.org/wiki/Softmax_function). Mathematically this looks like\n",
    "\n",
    "$$\n",
    "\\Large \\sigma(x_i) = \\cfrac{e^{x_i}}{\\sum_k^K{e^{x_k}}}\n",
    "$$\n",
    "\n",
    "What this does is squish each input $x_i$ between 0 and 1 and normalizes the values to give you a proper probability distribution where the probabilites sum up to one.\n",
    "\n",
    "> **Exercise:** Implement a function `softmax` that performs the softmax calculation and returns probability distributions for each example in the batch. Note that you'll need to pay attention to the shapes when doing this. If you have a tensor `a` with shape `(64, 10)` and a tensor `b` with shape `(64,)`, doing `a/b` will give you an error because PyTorch will try to do the division across the columns (called broadcasting) but you'll get a size mismatch. The way to think about this is for each of the 64 examples, you only want to divide by one value, the sum in the denominator. So you need `b` to have a shape of `(64, 1)`. This way PyTorch will divide the 10 values in each row of `a` by the one value in each row of `b`. Pay attention to how you take the sum as well. You'll need to define the `dim` keyword in `torch.sum`. Setting `dim=0` takes the sum across the rows while `dim=1` takes the sum across the columns."
   ]
  },
  {
   "cell_type": "code",
   "execution_count": 6,
   "metadata": {},
   "outputs": [
    {
     "name": "stdout",
     "output_type": "stream",
     "text": [
      "torch.Size([64, 10])\n",
      "tensor([1.0000, 1.0000, 1.0000, 1.0000, 1.0000, 1.0000, 1.0000, 1.0000, 1.0000,\n",
      "        1.0000, 1.0000, 1.0000, 1.0000, 1.0000, 1.0000, 1.0000, 1.0000, 1.0000,\n",
      "        1.0000, 1.0000, 1.0000, 1.0000, 1.0000, 1.0000, 1.0000, 1.0000, 1.0000,\n",
      "        1.0000, 1.0000, 1.0000, 1.0000, 1.0000, 1.0000, 1.0000, 1.0000, 1.0000,\n",
      "        1.0000, 1.0000, 1.0000, 1.0000, 1.0000, 1.0000, 1.0000, 1.0000, 1.0000,\n",
      "        1.0000, 1.0000, 1.0000, 1.0000, 1.0000, 1.0000, 1.0000, 1.0000, 1.0000,\n",
      "        1.0000, 1.0000, 1.0000, 1.0000, 1.0000, 1.0000, 1.0000, 1.0000, 1.0000,\n",
      "        1.0000])\n"
     ]
    }
   ],
   "source": [
    "def softmax(x):\n",
    "    ## TODO: Implement the softmax function here\n",
    "    return torch.exp(x) / torch.sum(torch.exp(x), dim=1).view(-1,1)\n",
    "\n",
    "# Here, out should be the output of the network in the previous excercise with shape (64,10)\n",
    "probabilities = softmax(out)\n",
    "\n",
    "# Does it have the right shape? Should be (64, 10)\n",
    "print(probabilities.shape)\n",
    "# Does it sum to 1?\n",
    "print(probabilities.sum(dim=1))"
   ]
  },
  {
   "cell_type": "code",
   "execution_count": 7,
   "metadata": {},
   "outputs": [
    {
     "name": "stdout",
     "output_type": "stream",
     "text": [
      "tensor(-2380.4438)\n"
     ]
    }
   ],
   "source": [
    "print(torch.sum(out))"
   ]
  },
  {
   "cell_type": "code",
   "execution_count": 8,
   "metadata": {},
   "outputs": [
    {
     "name": "stdout",
     "output_type": "stream",
     "text": [
      "tensor([[-3.2884e+00, -1.1608e+01, -5.3835e+00,  8.7629e+00,  2.7538e+00,\n",
      "         -7.5983e+00, -9.2495e+00, -2.8969e+01,  7.7797e+00,  4.1570e+00],\n",
      "        [-1.4433e+01, -7.6551e+00, -6.2879e+00,  1.8452e+01, -2.7693e+00,\n",
      "          6.2517e-01, -3.2233e+00, -2.4602e+01,  1.9658e+01, -8.9407e+00],\n",
      "        [ 1.2081e+00, -2.0380e+01, -9.1152e+00,  9.0481e+00, -2.6618e+00,\n",
      "          1.3857e+00, -6.2550e+00, -2.8807e+01,  2.9497e+00,  5.5666e+00],\n",
      "        [-6.7747e+00, -5.1606e+00, -2.7488e-01,  3.5014e+00,  4.3935e+00,\n",
      "         -3.4556e+00, -9.7864e-01, -1.9538e+01,  1.8592e+00, -5.1585e+00],\n",
      "        [-1.3804e+00, -9.4335e+00, -1.2446e+01,  8.5280e+00,  6.0265e+00,\n",
      "          4.8935e-01,  1.6401e+00, -3.6513e+01,  2.8373e+00,  3.2818e+00],\n",
      "        [-1.3609e+01, -7.2500e+00, -5.7421e-01,  6.2161e+00, -1.0635e+00,\n",
      "          8.1397e+00, -6.0702e-01, -1.8991e+01,  9.5640e+00, -9.8915e+00],\n",
      "        [-3.0665e+00, -9.0607e+00, -6.3051e+00,  2.7683e+01,  5.9378e+00,\n",
      "          1.9668e+00, -1.4673e+00, -2.8335e+01, -6.0718e+00,  2.5565e+00],\n",
      "        [-4.6626e-01, -8.3207e+00, -8.4026e+00,  1.0284e+01,  1.1862e+01,\n",
      "         -1.5162e+00,  1.8534e-01, -3.6461e+01, -1.8522e+00,  3.3677e+00],\n",
      "        [-1.3119e+01,  2.7748e+00, -5.3586e+00,  7.0084e+00,  2.1364e+00,\n",
      "          1.0947e+00, -2.9097e+00, -2.3583e+01,  1.9198e+01, -4.3301e-01],\n",
      "        [-3.6402e+00, -9.3966e+00, -1.3936e+01,  1.4016e+01,  4.4126e+00,\n",
      "          9.2652e+00,  4.8512e+00, -2.1519e+01,  1.1406e+01, -4.2068e+00],\n",
      "        [-7.8924e+00, -8.9165e+00, -1.7963e+01,  1.0107e+01,  7.0986e+00,\n",
      "         -1.6251e+01, -8.6437e+00, -2.8622e+01,  1.7322e+01, -2.3183e+00],\n",
      "        [-1.6212e+00, -9.6346e+00, -4.3100e+00,  1.9813e+01,  3.6545e+00,\n",
      "          4.8174e+00,  9.3606e+00, -2.8486e+01,  5.0536e+00,  3.3066e+00],\n",
      "        [-2.9616e+00, -7.5015e+00,  2.5466e+00,  8.4968e+00,  3.9826e+00,\n",
      "          6.6607e+00, -1.7310e-01, -2.1846e+01,  6.5863e+00, -6.4087e+00],\n",
      "        [ 2.1531e+00, -1.6502e+01,  5.7549e-01,  1.1919e+01,  1.0665e+01,\n",
      "          2.2233e+00, -5.2436e+00, -3.0324e+01, -9.0532e-01, -1.1083e+00],\n",
      "        [-9.7904e+00, -1.4379e+01, -7.5942e-01,  1.8270e+01, -7.1498e-01,\n",
      "         -9.9600e+00, -5.5756e+00, -3.2541e+01, -3.4737e+00, -5.3570e+00],\n",
      "        [-1.4608e+01, -8.1132e+00, -7.8910e+00,  1.2793e+01, -3.9216e+00,\n",
      "         -4.2488e+00, -4.6938e+00, -1.4133e+01,  1.1064e+01, -1.0258e+01],\n",
      "        [-1.0915e+01, -1.7480e+01, -4.7359e+00,  1.7639e+01,  6.7649e+00,\n",
      "         -9.1290e+00, -5.6811e+00, -3.0564e+01,  3.8326e-01, -6.4067e+00],\n",
      "        [-1.3580e+01, -7.3614e+00, -9.2788e+00,  1.8491e+01, -4.3082e+00,\n",
      "          2.0338e+00, -9.7455e+00, -1.7608e+01,  8.9278e+00, -9.0999e+00],\n",
      "        [-4.2107e+00, -2.0663e+01, -1.2713e+01,  1.2831e+01,  2.0143e+00,\n",
      "         -2.6792e+00,  8.4442e+00, -2.1469e+01,  5.8349e-01,  1.2304e+00],\n",
      "        [-4.9406e+00, -1.8207e+01, -7.3118e+00,  1.2335e+01,  2.1546e+00,\n",
      "          3.8011e+00, -1.1135e+01, -2.8318e+01,  5.9875e-01,  3.9848e+00],\n",
      "        [-1.0903e+01, -1.8958e+01, -7.3752e+00,  1.8721e+01, -6.0304e+00,\n",
      "         -1.4461e+01, -2.0912e+00, -2.3973e+01, -6.9774e+00, -4.8966e+00],\n",
      "        [ 7.9177e-01, -6.6311e+00, -1.0092e+01,  7.5721e+00, -2.4855e+00,\n",
      "         -5.0439e-01,  4.0816e+00, -1.4378e+01,  6.9778e+00,  2.5423e+00],\n",
      "        [-4.1967e+00, -1.2472e+01, -1.0064e+01,  1.9502e+01,  6.1219e-01,\n",
      "          7.5762e+00,  9.0132e+00, -2.7528e+01,  8.3644e+00, -4.3097e+00],\n",
      "        [-9.7583e+00, -5.7901e+00, -6.0781e+00,  7.3415e+00,  6.9327e+00,\n",
      "         -2.7226e+00, -1.5753e+01, -2.8602e+01,  5.1658e+00, -9.2539e+00],\n",
      "        [-6.6970e+00, -3.5174e+00, -7.1416e+00,  5.6442e+00,  7.2994e+00,\n",
      "          8.2703e+00, -8.5301e+00, -2.6672e+01,  2.3478e+00, -2.0462e+00],\n",
      "        [-1.0647e+01, -5.3056e+00,  3.1510e+00,  1.1886e+01,  5.2071e-01,\n",
      "         -1.0282e+01, -2.5528e+00, -2.5517e+01,  4.4726e+00, -2.5269e+00],\n",
      "        [-7.4179e+00, -4.7357e+00, -7.3001e+00,  1.0032e+01,  4.1704e-01,\n",
      "          5.5893e+00, -3.3599e+00, -2.6473e+01,  8.0509e+00,  3.5668e+00],\n",
      "        [-4.0726e+00, -2.0456e+01, -8.3872e+00,  2.0100e+01,  7.3973e+00,\n",
      "          1.1198e+01, -5.9390e+00, -2.9798e+01,  2.5291e+00, -2.0233e+00],\n",
      "        [-1.1687e+01, -1.2560e+01, -6.9133e-01,  4.2437e+00,  6.7889e+00,\n",
      "         -4.7725e+00, -9.6995e+00, -1.7547e+01, -3.7943e+00, -9.7964e+00],\n",
      "        [-8.4148e+00, -9.0387e+00, -1.4415e+01,  1.9077e+01,  5.4511e+00,\n",
      "          1.0531e-01,  4.9578e+00, -2.3877e+01,  1.5506e+01, -6.9595e+00],\n",
      "        [ 6.9697e+00, -5.3619e+00, -6.9255e+00,  1.1149e+01,  3.3682e+00,\n",
      "         -1.1513e+01, -1.1532e+01, -2.6406e+01,  8.3148e+00, -5.0249e+00],\n",
      "        [-6.6517e+00, -1.5100e+01,  1.0027e+00,  8.6689e+00,  2.2507e+00,\n",
      "         -1.0388e+01, -6.8327e+00, -2.9121e+01,  1.2807e+00,  7.1952e+00],\n",
      "        [-8.9586e+00, -1.1240e+01, -2.0157e+01,  1.2628e+01, -1.0918e+00,\n",
      "         -4.7592e+00, -2.9635e+00, -3.1668e+01,  1.1514e+01,  1.1584e+00],\n",
      "        [-9.3331e+00, -3.7173e+00,  8.0319e+00,  7.8149e+00, -3.2962e+00,\n",
      "         -7.9492e-01, -4.7859e+00, -1.7901e+01,  8.1137e+00, -3.8412e+00],\n",
      "        [-3.7720e+00, -1.0024e+01, -2.5808e+00,  1.9059e+01,  9.2402e+00,\n",
      "          2.0675e+00,  3.7298e-01, -3.0160e+01,  1.7241e+00,  1.1781e+00],\n",
      "        [-8.2082e+00, -1.5266e+01,  1.1957e+00,  7.9527e+00, -2.6307e+00,\n",
      "         -5.2088e+00, -6.1914e+00, -1.6894e+01,  2.5289e+00, -8.0435e+00],\n",
      "        [-4.4173e+00, -9.8833e+00, -1.0603e+01,  7.6738e+00,  9.5276e+00,\n",
      "         -7.3753e+00, -1.6034e+01, -2.6860e+01,  1.2766e+01,  2.0437e+00],\n",
      "        [-5.4279e+00, -1.1962e+01, -1.1720e+01,  1.7724e+01, -4.1340e-01,\n",
      "         -2.4214e-02, -2.3381e-01, -3.7303e+01,  5.0779e+00,  5.7052e+00],\n",
      "        [-4.3281e+00, -4.8960e+00, -8.8379e+00,  1.6630e+01,  2.4746e+00,\n",
      "         -4.2271e+00,  6.0991e-01, -2.4676e+01,  2.7889e+00,  9.7508e+00],\n",
      "        [-5.2212e+00, -1.6584e+01, -7.2607e+00, -2.1652e+00, -4.7934e+00,\n",
      "          3.7710e+00, -4.0439e+00, -2.7858e+01, -2.3696e+00, -6.8522e+00],\n",
      "        [-1.8282e+01, -4.4022e+00, -1.1779e+01,  1.4014e+01,  3.6249e+00,\n",
      "         -2.6332e+00, -1.5890e+00, -2.2482e+01,  1.1952e+01,  1.0724e+01],\n",
      "        [-3.6302e-01, -1.2344e+01,  1.1560e+00,  1.2506e+01,  9.0088e+00,\n",
      "         -3.6789e+00,  2.6424e+00, -1.7397e+01,  8.3268e+00, -6.4709e+00],\n",
      "        [-1.0482e+01, -8.7233e+00, -8.2927e+00,  1.1930e+01,  5.0153e+00,\n",
      "         -9.7766e-01,  9.6008e-01, -3.4571e+01,  2.8508e+00,  1.1018e+00],\n",
      "        [-1.5453e+01, -4.6291e+00, -1.4921e+01,  2.4014e+01,  8.0125e+00,\n",
      "         -7.8617e+00, -9.5945e+00, -3.4185e+01,  1.2602e+01,  9.5765e+00],\n",
      "        [ 2.4965e+00, -8.4701e+00, -3.5058e+00,  1.1992e+01,  4.2975e+00,\n",
      "          7.0797e+00, -5.6755e-01, -2.9729e+01, -1.4450e-01, -1.0737e+00],\n",
      "        [-3.0715e+00, -1.5327e+01, -5.8040e+00,  9.1061e+00, -2.5080e-01,\n",
      "          4.3954e+00, -1.6584e+00, -1.7182e+01,  9.9459e+00, -4.1022e+00],\n",
      "        [-1.1817e+01, -1.2561e+01, -5.6040e+00,  2.3068e+01, -3.3094e+00,\n",
      "         -2.6091e-01, -7.2963e+00, -2.9197e+01, -1.3554e+00, -4.4228e+00],\n",
      "        [-3.2218e+00, -1.3941e+01,  3.7495e-01,  1.4463e+01,  5.6973e+00,\n",
      "         -1.4246e+01, -5.0477e-01, -3.0754e+01,  5.7106e-01, -8.8806e+00],\n",
      "        [-3.9139e+00, -8.6093e+00, -1.3922e+01,  1.3740e+01,  5.4455e+00,\n",
      "          2.8424e+00, -7.3566e+00, -2.4773e+01,  2.9921e+00,  6.7455e+00],\n",
      "        [-3.1915e+00, -1.1360e+01,  2.5675e+00,  6.4031e+00,  5.2929e+00,\n",
      "          2.4312e+00, -2.5177e+00, -3.0676e+01,  3.1464e-02, -4.9916e+00],\n",
      "        [-1.1543e+01, -1.4035e+01, -1.1363e+01,  7.3259e+00, -1.5247e+00,\n",
      "         -1.6344e+00, -1.0323e+01, -1.6526e+01,  9.5758e+00, -7.7052e+00],\n",
      "        [-8.9209e-01, -2.7483e+00, -1.2651e+01,  1.1868e+01,  6.9794e+00,\n",
      "         -3.0378e+00,  4.8412e+00, -3.7259e+01,  3.0125e+00, -3.9302e-01],\n",
      "        [-8.5550e+00, -1.1800e+01, -1.5649e+01,  2.0758e+01,  2.0447e+00,\n",
      "         -2.9685e+00,  2.0581e+00, -2.0033e+01,  1.1656e+01,  4.5323e+00],\n",
      "        [-9.5650e+00, -3.8749e+00, -1.2556e+01,  1.0547e+01,  8.8636e+00,\n",
      "         -7.3381e+00, -8.4458e+00, -2.2499e+01,  1.4057e+01, -4.0322e+00],\n",
      "        [-1.4425e+00, -1.2713e+01, -3.3735e+00,  2.3679e+01, -1.0693e+01,\n",
      "         -2.7910e+00, -4.3991e+00, -3.0073e+01, -2.0641e-01, -4.8903e+00],\n",
      "        [-1.0250e+01, -7.0900e+00, -1.9042e+01,  1.3587e+01,  6.2402e+00,\n",
      "         -4.2496e+00, -2.6118e+00, -3.1876e+01,  1.3655e+01, -6.6797e+00],\n",
      "        [-1.9373e+00, -8.4613e+00, -6.5400e+00,  1.2644e+01, -1.5923e-01,\n",
      "         -4.9329e+00,  2.2425e+00, -2.1719e+01,  8.0952e+00, -2.2491e+00],\n",
      "        [-6.8917e+00, -1.3854e+01, -9.6233e+00,  1.0060e+01, -3.4395e+00,\n",
      "         -7.0467e+00, -5.7641e+00, -1.8013e+01,  9.2102e-02, -1.0259e+01],\n",
      "        [-1.2870e+01, -2.5604e+01, -2.1940e+01,  1.3797e+01,  5.2436e+00,\n",
      "          1.8632e+00, -9.9016e+00, -2.9393e+01,  1.3405e+00,  4.5162e-01],\n",
      "        [-7.6604e+00, -1.0600e+01, -1.3414e+01,  6.3155e-01, -2.0426e+00,\n",
      "         -1.3742e+01, -2.1179e+01, -2.0036e+01,  1.3731e+01,  3.0598e+00],\n",
      "        [ 3.8486e+00, -1.1308e+01, -8.0164e+00,  9.4342e+00, -4.3636e-01,\n",
      "         -2.6741e+00, -1.0775e+01, -2.3412e+01,  4.1753e+00, -4.5277e+00],\n",
      "        [-1.1007e+01, -6.4823e+00, -4.7159e+00,  1.6271e+01,  5.6942e+00,\n",
      "         -7.6014e+00, -1.3500e+01, -2.1332e+01,  1.0506e+01, -6.7084e+00],\n",
      "        [-1.2762e+01, -6.8496e+00, -3.5013e+00,  1.3195e+01,  7.6909e+00,\n",
      "          1.0952e-01, -1.2843e+01, -2.5499e+01,  2.8873e+00, -1.2495e+01],\n",
      "        [-6.4888e+00, -8.9138e+00,  4.0207e-01,  6.3351e+00, -4.4688e+00,\n",
      "         -1.3722e+01, -4.6683e+00, -2.6284e+01,  7.5049e+00,  3.6155e+00]])\n"
     ]
    }
   ],
   "source": [
    "print(out)\n"
   ]
  },
  {
   "cell_type": "code",
   "execution_count": 9,
   "metadata": {},
   "outputs": [
    {
     "name": "stdout",
     "output_type": "stream",
     "text": [
      "tensor([[4.2097e-06, 1.0254e-09, 5.1804e-07, 7.2120e-01, 1.7715e-03, 5.6555e-08,\n",
      "         1.0849e-08, 2.9610e-17, 2.6982e-01, 7.2065e-03],\n",
      "        [1.2040e-15, 1.0574e-12, 4.1497e-12, 2.3044e-01, 1.4000e-10, 4.1720e-09,\n",
      "         8.8911e-11, 4.6153e-20, 7.6956e-01, 2.9238e-13],\n",
      "        [3.8079e-04, 1.6034e-13, 1.2512e-08, 9.6723e-01, 7.9436e-06, 4.5477e-04,\n",
      "         2.1852e-07, 3.5087e-17, 2.1729e-03, 2.9755e-02],\n",
      "        [9.3877e-06, 4.7158e-05, 6.2428e-03, 2.7253e-01, 6.6503e-01, 2.5943e-04,\n",
      "         3.0884e-03, 2.6897e-11, 5.2745e-02, 4.7257e-05],\n",
      "        [4.5560e-05, 1.4493e-08, 7.1240e-10, 9.1575e-01, 7.5055e-02, 2.9554e-04,\n",
      "         9.3411e-04, 2.5152e-20, 3.0927e-03, 4.8234e-03],\n",
      "        [6.7654e-11, 3.9077e-08, 3.0988e-05, 2.7554e-02, 1.8998e-05, 1.8862e-01,\n",
      "         2.9988e-05, 3.1100e-13, 7.8375e-01, 2.7843e-09],\n",
      "        [4.4212e-14, 1.1023e-16, 1.7339e-15, 1.0000e+00, 3.5981e-10, 6.7836e-12,\n",
      "         2.1880e-13, 4.6922e-25, 2.1895e-15, 1.2234e-11],\n",
      "        [3.6680e-06, 1.4232e-09, 1.3113e-09, 1.7113e-01, 8.2868e-01, 1.2837e-06,\n",
      "         7.0373e-06, 8.5535e-22, 9.1732e-07, 1.6963e-04],\n",
      "        [9.2196e-15, 7.3688e-08, 2.1634e-11, 5.0823e-06, 3.8920e-08, 1.3733e-08,\n",
      "         2.5041e-10, 2.6318e-19, 9.9999e-01, 2.9805e-09],\n",
      "        [1.9854e-08, 6.2789e-11, 6.7073e-13, 9.2391e-01, 6.2394e-05, 7.9907e-03,\n",
      "         9.6747e-05, 3.4120e-16, 6.7945e-02, 1.1266e-08],\n",
      "        [1.1203e-11, 4.0233e-12, 4.7417e-16, 7.3529e-04, 3.6293e-05, 2.6259e-15,\n",
      "         5.2853e-12, 1.1133e-20, 9.9923e-01, 2.9522e-09],\n",
      "        [4.9139e-10, 1.6265e-13, 3.3396e-11, 9.9997e-01, 9.6080e-08, 3.0736e-07,\n",
      "         2.8889e-05, 1.0568e-21, 3.8928e-07, 6.7847e-08],\n",
      "        [7.9929e-06, 8.5325e-08, 1.9719e-03, 7.5690e-01, 8.2902e-03, 1.2068e-01,\n",
      "         1.2994e-04, 5.0267e-14, 1.1202e-01, 2.5448e-07],\n",
      "        [4.4620e-05, 3.5302e-13, 9.2129e-06, 7.7797e-01, 2.2193e-01, 4.7865e-05,\n",
      "         2.7366e-08, 3.5084e-19, 2.0955e-06, 1.7106e-06],\n",
      "        [6.5112e-13, 6.6190e-15, 5.4419e-09, 1.0000e+00, 5.6892e-09, 5.4951e-13,\n",
      "         4.4067e-11, 8.5777e-23, 3.6053e-10, 5.4836e-11],\n",
      "        [1.0683e-12, 7.0722e-10, 8.8317e-10, 8.4936e-01, 4.6766e-08, 3.3716e-08,\n",
      "         2.1606e-08, 1.7190e-12, 1.5064e-01, 8.2813e-11],\n",
      "        [3.9720e-13, 5.5950e-16, 1.9168e-10, 9.9998e-01, 1.8937e-05, 2.3696e-12,\n",
      "         7.4488e-11, 1.1627e-21, 3.2049e-08, 3.6056e-11],\n",
      "        [1.1792e-14, 5.9223e-12, 8.7048e-13, 9.9993e-01, 1.2544e-10, 7.1243e-08,\n",
      "         5.4584e-13, 2.1002e-16, 7.0270e-05, 1.0410e-12],\n",
      "        [3.9207e-08, 2.8075e-15, 7.9568e-12, 9.8768e-01, 1.9808e-05, 1.8133e-07,\n",
      "         1.2283e-02, 1.2535e-15, 4.7365e-06, 9.0445e-06],\n",
      "        [3.1412e-08, 5.4418e-14, 2.9330e-09, 9.9952e-01, 3.7889e-05, 1.9659e-04,\n",
      "         6.4129e-11, 2.2102e-18, 7.9947e-06, 2.3624e-04],\n",
      "        [1.3617e-13, 4.3267e-17, 4.6384e-12, 1.0000e+00, 1.7800e-11, 3.8833e-15,\n",
      "         9.1451e-10, 2.8713e-19, 6.9045e-12, 5.5311e-11],\n",
      "        [7.1420e-04, 4.2667e-07, 1.3393e-08, 6.2876e-01, 2.6948e-05, 1.9539e-04,\n",
      "         1.9169e-02, 1.8440e-10, 3.4703e-01, 4.1121e-03],\n",
      "        [5.1002e-11, 1.2987e-14, 1.4439e-13, 9.9995e-01, 6.2528e-09, 6.6147e-06,\n",
      "         2.7835e-05, 3.7580e-21, 1.4549e-05, 4.5554e-11],\n",
      "        [2.1072e-08, 1.1145e-06, 8.3558e-07, 5.6243e-01, 3.7369e-01, 2.3949e-05,\n",
      "         5.2518e-11, 1.3799e-16, 6.3853e-02, 3.4895e-08],\n",
      "        [2.1742e-07, 5.2260e-06, 1.3938e-07, 4.9775e-02, 2.6051e-01, 6.8784e-01,\n",
      "         3.4769e-08, 4.5951e-16, 1.8424e-03, 2.2758e-05],\n",
      "        [1.6362e-10, 3.4151e-08, 1.6071e-04, 9.9922e-01, 1.1581e-05, 2.3562e-10,\n",
      "         5.3571e-07, 5.6970e-17, 6.0255e-04, 5.4976e-07],\n",
      "        [2.2921e-08, 3.3506e-07, 2.5787e-08, 8.6863e-01, 5.7931e-05, 1.0214e-02,\n",
      "         1.3263e-06, 1.2152e-16, 1.1974e-01, 1.3516e-03],\n",
      "        [3.1775e-11, 2.4380e-18, 4.2492e-13, 9.9986e-01, 3.0436e-06, 1.3622e-04,\n",
      "         4.9151e-12, 2.1367e-22, 2.3397e-08, 2.4664e-10],\n",
      "        [8.7719e-09, 3.6626e-09, 5.2278e-04, 7.2708e-02, 9.2674e-01, 8.8283e-06,\n",
      "         6.3991e-08, 2.5003e-11, 2.3480e-05, 5.8080e-08],\n",
      "        [1.1178e-12, 5.9899e-13, 2.7696e-15, 9.7264e-01, 1.1756e-06, 5.6054e-09,\n",
      "         7.1785e-07, 2.1530e-19, 2.7360e-02, 4.7905e-12],\n",
      "        [1.4248e-02, 6.2832e-08, 1.3156e-08, 9.3067e-01, 3.8869e-04, 1.3388e-10,\n",
      "         1.3138e-10, 4.5578e-17, 5.4689e-02, 8.8012e-08],\n",
      "        [1.8021e-07, 3.8607e-11, 3.8024e-04, 8.1183e-01, 1.3245e-03, 4.2976e-09,\n",
      "         1.5038e-07, 3.1447e-17, 5.0211e-04, 1.8596e-01],\n",
      "        [3.1748e-10, 3.2423e-11, 4.3481e-15, 7.5298e-01, 8.2837e-07, 2.1158e-08,\n",
      "         1.2745e-07, 4.3571e-20, 2.4702e-01, 7.8608e-06],\n",
      "        [9.9433e-09, 2.7318e-06, 3.4599e-01, 2.7849e-01, 4.1622e-06, 5.0769e-05,\n",
      "         9.3826e-07, 1.8903e-12, 3.7546e-01, 2.4132e-06],\n",
      "        [1.2151e-10, 2.3409e-13, 3.9986e-10, 9.9995e-01, 5.4417e-05, 4.1749e-08,\n",
      "         7.6689e-09, 4.2118e-22, 2.9615e-08, 1.7155e-08],\n",
      "        [9.5273e-08, 8.2035e-11, 1.1562e-03, 9.9443e-01, 2.5192e-05, 1.9125e-06,\n",
      "         7.1594e-07, 1.6101e-11, 4.3860e-03, 1.1233e-07],\n",
      "        [3.2962e-08, 1.3936e-10, 6.7824e-11, 5.8762e-03, 3.7512e-02, 1.7113e-09,\n",
      "         2.9698e-13, 5.9074e-18, 9.5659e-01, 2.1084e-05],\n",
      "        [8.8143e-11, 1.2810e-13, 1.6314e-13, 9.9999e-01, 1.3273e-08, 1.9588e-08,\n",
      "         1.5884e-08, 1.2654e-24, 3.2197e-06, 6.0291e-06],\n",
      "        [7.8965e-10, 4.4749e-10, 8.6868e-12, 9.9897e-01, 7.1090e-07, 8.7357e-10,\n",
      "         1.1015e-07, 1.1497e-18, 9.7341e-07, 1.0276e-03],\n",
      "        [1.2370e-04, 1.4380e-09, 1.6091e-05, 2.6275e-03, 1.8973e-04, 9.9448e-01,\n",
      "         4.0147e-04, 1.8257e-14, 2.1418e-03, 2.4210e-05],\n",
      "        [8.0866e-15, 8.6251e-09, 5.3978e-12, 8.5873e-01, 2.6417e-05, 5.0582e-08,\n",
      "         1.4372e-07, 1.2133e-16, 1.0925e-01, 3.1993e-02],\n",
      "        [2.4649e-06, 1.5436e-11, 1.1259e-05, 9.5632e-01, 2.8967e-02, 8.9485e-08,\n",
      "         4.9779e-05, 9.8616e-14, 1.4647e-02, 5.4849e-09],\n",
      "        [1.8461e-10, 1.0716e-09, 1.6483e-09, 9.9885e-01, 9.9229e-04, 2.4770e-06,\n",
      "         1.7198e-05, 6.3767e-21, 1.1392e-04, 1.9815e-05],\n",
      "        [7.2372e-18, 3.6336e-13, 1.2315e-17, 9.9999e-01, 1.1234e-07, 1.4337e-14,\n",
      "         2.5346e-15, 5.3035e-26, 1.1054e-05, 5.3673e-07],\n",
      "        [7.4588e-05, 1.2880e-09, 1.8445e-07, 9.9217e-01, 4.5166e-04, 7.2966e-03,\n",
      "         3.4830e-06, 7.5393e-19, 5.3171e-06, 2.0996e-06],\n",
      "        [1.5472e-06, 7.3600e-12, 1.0065e-07, 3.0076e-01, 2.5975e-05, 2.7062e-03,\n",
      "         6.3569e-06, 1.1519e-12, 6.9650e-01, 5.5199e-07],\n",
      "        [7.0703e-16, 3.3603e-16, 3.5313e-13, 1.0000e+00, 3.5031e-12, 7.3858e-11,\n",
      "         6.5006e-14, 2.0021e-23, 2.4720e-11, 1.1505e-12],\n",
      "        [2.0873e-08, 4.6158e-13, 7.6144e-07, 9.9984e-01, 1.5599e-04, 3.4020e-13,\n",
      "         3.1592e-07, 2.3041e-20, 9.2641e-07, 7.2781e-11],\n",
      "        [2.1509e-08, 1.9654e-10, 9.6867e-13, 9.9879e-01, 2.4966e-04, 1.8487e-05,\n",
      "         6.8782e-10, 1.8774e-17, 2.1472e-05, 9.1613e-04],\n",
      "        [4.9639e-05, 1.4065e-08, 1.5737e-02, 7.2895e-01, 2.4018e-01, 1.3732e-02,\n",
      "         9.7374e-05, 5.7455e-17, 1.2460e-03, 8.2044e-06],\n",
      "        [6.0931e-10, 5.0412e-11, 7.2931e-10, 9.5355e-02, 1.3664e-05, 1.2244e-05,\n",
      "         2.0622e-09, 4.1729e-12, 9.0462e-01, 2.8277e-08],\n",
      "        [2.8487e-06, 4.4514e-07, 2.2283e-11, 9.9150e-01, 7.4676e-03, 3.3326e-07,\n",
      "         8.8025e-04, 4.5788e-22, 1.4139e-04, 4.6924e-06],\n",
      "        [1.8603e-13, 7.2512e-15, 1.5437e-16, 9.9989e-01, 7.4635e-09, 4.9633e-11,\n",
      "         7.5645e-09, 1.9258e-18, 1.1142e-04, 8.9806e-08],\n",
      "        [5.3205e-11, 1.5745e-08, 2.6723e-12, 2.8880e-02, 5.3629e-03, 4.9326e-10,\n",
      "         1.6293e-10, 1.2849e-16, 9.6576e-01, 1.3453e-08],\n",
      "        [1.2301e-11, 1.5678e-16, 1.7837e-12, 1.0000e+00, 1.1822e-15, 3.1939e-12,\n",
      "         6.3961e-13, 4.5271e-24, 4.2343e-11, 3.9136e-13],\n",
      "        [2.1460e-11, 5.0564e-10, 3.2584e-15, 4.8300e-01, 3.1122e-04, 8.6580e-09,\n",
      "         4.4536e-08, 8.6948e-21, 5.1669e-01, 7.6216e-10],\n",
      "        [4.6018e-07, 6.7549e-10, 4.6133e-09, 9.8949e-01, 2.7237e-06, 2.3012e-08,\n",
      "         3.0074e-05, 1.1797e-15, 1.0472e-02, 3.3694e-07],\n",
      "        [4.3452e-08, 4.1133e-11, 2.8295e-09, 9.9995e-01, 1.3718e-06, 3.7212e-08,\n",
      "         1.3419e-07, 6.4294e-13, 4.6886e-05, 1.4982e-09],\n",
      "        [2.6223e-12, 7.7312e-18, 3.0161e-16, 9.9980e-01, 1.9287e-04, 6.5645e-06,\n",
      "         5.1027e-11, 1.7497e-19, 3.8923e-06, 1.6001e-06],\n",
      "        [5.1241e-10, 2.7103e-11, 1.6257e-12, 2.0454e-06, 1.4106e-07, 1.1707e-12,\n",
      "         6.8971e-16, 2.1616e-15, 9.9997e-01, 2.3193e-05],\n",
      "        [3.7179e-03, 9.7243e-10, 2.6145e-08, 9.9107e-01, 5.1210e-05, 5.4643e-06,\n",
      "         1.6577e-09, 5.3873e-15, 5.1546e-03, 8.5608e-07],\n",
      "        [1.4194e-12, 1.3093e-10, 7.6586e-10, 9.9685e-01, 2.5421e-05, 4.2757e-11,\n",
      "         1.1726e-13, 4.6543e-17, 3.1271e-03, 1.0443e-10],\n",
      "        [5.3135e-12, 1.9640e-09, 5.5888e-08, 9.9591e-01, 4.0551e-03, 2.0676e-06,\n",
      "         4.8983e-12, 1.5620e-17, 3.3253e-05, 6.9376e-12],\n",
      "        [6.2833e-07, 5.5599e-08, 6.1784e-04, 2.3311e-01, 4.7366e-06, 4.5367e-10,\n",
      "         3.8802e-06, 1.5895e-15, 7.5091e-01, 1.5362e-02]])\n"
     ]
    }
   ],
   "source": [
    "print(probabilities)"
   ]
  },
  {
   "cell_type": "markdown",
   "metadata": {},
   "source": [
    "## Building networks with PyTorch\n",
    "\n",
    "PyTorch provides a module `nn` that makes building networks much simpler. Here I'll show you how to build the same one as above with 784 inputs, 256 hidden units, 10 output units and a softmax output."
   ]
  },
  {
   "cell_type": "code",
   "execution_count": 10,
   "metadata": {},
   "outputs": [],
   "source": [
    "from torch import nn"
   ]
  },
  {
   "cell_type": "code",
   "execution_count": 11,
   "metadata": {},
   "outputs": [],
   "source": [
    "class Network(nn.Module):\n",
    "    def __init__(self):\n",
    "        super().__init__()\n",
    "        \n",
    "        # Inputs to hidden layer linear transformation\n",
    "        self.hidden = nn.Linear(784, 256)\n",
    "        # Output layer, 10 units - one for each digit\n",
    "        self.output = nn.Linear(256, 10)\n",
    "        \n",
    "        # Define sigmoid activation and softmax output \n",
    "        self.sigmoid = nn.Sigmoid()\n",
    "        self.softmax = nn.Softmax(dim=1)\n",
    "        \n",
    "    def forward(self, x):\n",
    "        # Pass the input tensor through each of our operations\n",
    "        x = self.hidden(x)\n",
    "        x = self.sigmoid(x)\n",
    "        x = self.output(x)\n",
    "        x = self.softmax(x)\n",
    "        \n",
    "        return x"
   ]
  },
  {
   "cell_type": "markdown",
   "metadata": {},
   "source": [
    "Let's go through this bit by bit.\n",
    "\n",
    "```python\n",
    "class Network(nn.Module):\n",
    "```\n",
    "\n",
    "Here we're inheriting from `nn.Module`. Combined with `super().__init__()` this creates a class that tracks the architecture and provides a lot of useful methods and attributes. It is mandatory to inherit from `nn.Module` when you're creating a class for your network. The name of the class itself can be anything.\n",
    "\n",
    "```python\n",
    "self.hidden = nn.Linear(784, 256)\n",
    "```\n",
    "\n",
    "This line creates a module for a linear transformation, $x\\mathbf{W} + b$, with 784 inputs and 256 outputs and assigns it to `self.hidden`. The module automatically creates the weight and bias tensors which we'll use in the `forward` method. You can access the weight and bias tensors once the network (`net`) is created with `net.hidden.weight` and `net.hidden.bias`.\n",
    "\n",
    "```python\n",
    "self.output = nn.Linear(256, 10)\n",
    "```\n",
    "\n",
    "Similarly, this creates another linear transformation with 256 inputs and 10 outputs.\n",
    "\n",
    "```python\n",
    "self.sigmoid = nn.Sigmoid()\n",
    "self.softmax = nn.Softmax(dim=1)\n",
    "```\n",
    "\n",
    "Here I defined operations for the sigmoid activation and softmax output. Setting `dim=1` in `nn.Softmax(dim=1)` calculates softmax across the columns.\n",
    "\n",
    "```python\n",
    "def forward(self, x):\n",
    "```\n",
    "\n",
    "PyTorch networks created with `nn.Module` must have a `forward` method defined. It takes in a tensor `x` and passes it through the operations you defined in the `__init__` method.\n",
    "\n",
    "```python\n",
    "x = self.hidden(x)\n",
    "x = self.sigmoid(x)\n",
    "x = self.output(x)\n",
    "x = self.softmax(x)\n",
    "```\n",
    "\n",
    "Here the input tensor `x` is passed through each operation and reassigned to `x`. We can see that the input tensor goes through the hidden layer, then a sigmoid function, then the output layer, and finally the softmax function. It doesn't matter what you name the variables here, as long as the inputs and outputs of the operations match the network architecture you want to build. The order in which you define things in the `__init__` method doesn't matter, but you'll need to sequence the operations correctly in the `forward` method.\n",
    "\n",
    "Now we can create a `Network` object."
   ]
  },
  {
   "cell_type": "code",
   "execution_count": 12,
   "metadata": {},
   "outputs": [
    {
     "data": {
      "text/plain": [
       "Network(\n",
       "  (hidden): Linear(in_features=784, out_features=256, bias=True)\n",
       "  (output): Linear(in_features=256, out_features=10, bias=True)\n",
       "  (sigmoid): Sigmoid()\n",
       "  (softmax): Softmax()\n",
       ")"
      ]
     },
     "execution_count": 12,
     "metadata": {},
     "output_type": "execute_result"
    }
   ],
   "source": [
    "# Create the network and look at it's text representation\n",
    "model = Network()\n",
    "model"
   ]
  },
  {
   "cell_type": "markdown",
   "metadata": {},
   "source": [
    "You can define the network somewhat more concisely and clearly using the `torch.nn.functional` module. This is the most common way you'll see networks defined as many operations are simple element-wise functions. We normally import this module as `F`, `import torch.nn.functional as F`."
   ]
  },
  {
   "cell_type": "code",
   "execution_count": 13,
   "metadata": {},
   "outputs": [],
   "source": [
    "import torch.nn.functional as F\n",
    "\n",
    "class Network(nn.Module):\n",
    "    def __init__(self):\n",
    "        super().__init__()\n",
    "        # Inputs to hidden layer linear transformation\n",
    "        self.hidden = nn.Linear(784, 256)\n",
    "        # Output layer, 10 units - one for each digit\n",
    "        self.output = nn.Linear(256, 10)\n",
    "        \n",
    "    def forward(self, x):\n",
    "        # Hidden layer with sigmoid activation\n",
    "        x = F.sigmoid(self.hidden(x))\n",
    "        # Output layer with softmax activation\n",
    "        x = F.softmax(self.output(x), dim=1)\n",
    "        \n",
    "        return x"
   ]
  },
  {
   "cell_type": "markdown",
   "metadata": {},
   "source": [
    "### Activation functions\n",
    "\n",
    "So far we've only been looking at the sigmoid activation function, but in general any function can be used as an activation function. The only requirement is that for a network to approximate a non-linear function, the activation functions must be non-linear. Here are a few more examples of common activation functions: Tanh (hyperbolic tangent), and ReLU (rectified linear unit).\n",
    "\n",
    "<img src=\"assets/activation.png\" width=700px>\n",
    "\n",
    "In practice, the ReLU function is used almost exclusively as the activation function for hidden layers."
   ]
  },
  {
   "cell_type": "markdown",
   "metadata": {},
   "source": [
    "### Your Turn to Build a Network\n",
    "\n",
    "<img src=\"assets/mlp_mnist.png\" width=600px>\n",
    "\n",
    "> **Exercise:** Create a network with 784 input units, a hidden layer with 128 units and a ReLU activation, then a hidden layer with 64 units and a ReLU activation, and finally an output layer with a softmax activation as shown above. You can use a ReLU activation with the `nn.ReLU` module or `F.relu` function.\n",
    "\n",
    "It's good practice to name your layers by their type of network, for instance 'fc' to represent a fully-connected layer. As you code your solution, use `fc1`, `fc2`, and `fc3` as your layer names."
   ]
  },
  {
   "cell_type": "code",
   "execution_count": 14,
   "metadata": {
    "scrolled": true
   },
   "outputs": [
    {
     "data": {
      "text/plain": [
       "Network(\n",
       "  (fc1): Linear(in_features=784, out_features=128, bias=True)\n",
       "  (fc2): Linear(in_features=128, out_features=64, bias=True)\n",
       "  (fc3): Linear(in_features=64, out_features=10, bias=True)\n",
       "  (relu): ReLU()\n",
       ")"
      ]
     },
     "execution_count": 14,
     "metadata": {},
     "output_type": "execute_result"
    }
   ],
   "source": [
    "## Your solution here\n",
    "class Network(nn.Module):\n",
    "    def __init__(self):\n",
    "        super().__init__()\n",
    "        \n",
    "        self.fc1 = nn.Linear(784, 128)\n",
    "        self.fc2 = nn.Linear(128, 64)\n",
    "        self.fc3 = nn.Linear(64, 10)\n",
    "        \n",
    "        # Define sigmoid activation and softmax output \n",
    "        self.relu = nn.ReLU()\n",
    "        \n",
    "    def forward(self, x):\n",
    "        # Pass the input tensor through each of our operations\n",
    "        x = self.fc1(x)\n",
    "        x = self.relu(x)\n",
    "        x = self.fc2(x)\n",
    "        x = self.relu(x)\n",
    "        x = self.fc3(x)\n",
    "        x = F.softmax(x, dim=1)\n",
    "        \n",
    "        return x\n",
    "    \n",
    "model = Network()\n",
    "model"
   ]
  },
  {
   "cell_type": "markdown",
   "metadata": {},
   "source": [
    "### Initializing weights and biases\n",
    "\n",
    "The weights and such are automatically initialized for you, but it's possible to customize how they are initialized. The weights and biases are tensors attached to the layer you defined, you can get them with `model.fc1.weight` for instance."
   ]
  },
  {
   "cell_type": "code",
   "execution_count": 15,
   "metadata": {},
   "outputs": [
    {
     "name": "stdout",
     "output_type": "stream",
     "text": [
      "Parameter containing:\n",
      "tensor([[-0.0193,  0.0022,  0.0327,  ..., -0.0244,  0.0258, -0.0330],\n",
      "        [ 0.0287, -0.0031, -0.0195,  ..., -0.0250, -0.0046,  0.0114],\n",
      "        [-0.0348, -0.0204,  0.0025,  ..., -0.0182, -0.0260, -0.0076],\n",
      "        ...,\n",
      "        [ 0.0306, -0.0212, -0.0115,  ..., -0.0324,  0.0015, -0.0196],\n",
      "        [-0.0176,  0.0207,  0.0273,  ...,  0.0118,  0.0103,  0.0082],\n",
      "        [-0.0120,  0.0260,  0.0017,  ...,  0.0266,  0.0258, -0.0271]],\n",
      "       requires_grad=True)\n",
      "Parameter containing:\n",
      "tensor([ 0.0118, -0.0306, -0.0355,  0.0097,  0.0274,  0.0194,  0.0202, -0.0127,\n",
      "         0.0217,  0.0143,  0.0091, -0.0150,  0.0208, -0.0084,  0.0315,  0.0096,\n",
      "         0.0002, -0.0015, -0.0159,  0.0150, -0.0200,  0.0282, -0.0133, -0.0100,\n",
      "        -0.0251,  0.0314, -0.0274,  0.0185, -0.0091,  0.0024, -0.0040, -0.0256,\n",
      "        -0.0037, -0.0108,  0.0313, -0.0260, -0.0229, -0.0228, -0.0250, -0.0158,\n",
      "        -0.0243,  0.0322, -0.0290, -0.0110, -0.0017, -0.0070, -0.0062,  0.0250,\n",
      "         0.0017, -0.0220, -0.0323,  0.0049,  0.0346,  0.0098,  0.0335, -0.0044,\n",
      "         0.0307,  0.0305, -0.0316, -0.0193,  0.0306,  0.0049, -0.0172, -0.0190,\n",
      "        -0.0207, -0.0017, -0.0272,  0.0080,  0.0012, -0.0027, -0.0208,  0.0298,\n",
      "        -0.0157,  0.0056,  0.0295, -0.0197,  0.0337, -0.0059, -0.0340, -0.0310,\n",
      "        -0.0301, -0.0181, -0.0076,  0.0196,  0.0269, -0.0084,  0.0311,  0.0143,\n",
      "        -0.0166,  0.0219,  0.0112, -0.0123, -0.0145,  0.0335, -0.0264,  0.0256,\n",
      "        -0.0301, -0.0292, -0.0206,  0.0213, -0.0103,  0.0010, -0.0184, -0.0286,\n",
      "         0.0352, -0.0126,  0.0292,  0.0127,  0.0082, -0.0321,  0.0079,  0.0297,\n",
      "        -0.0356, -0.0009, -0.0276,  0.0127, -0.0141,  0.0127, -0.0105,  0.0232,\n",
      "        -0.0336,  0.0052, -0.0192,  0.0013, -0.0175, -0.0061,  0.0072, -0.0048],\n",
      "       requires_grad=True)\n"
     ]
    }
   ],
   "source": [
    "print(model.fc1.weight)\n",
    "print(model.fc1.bias)"
   ]
  },
  {
   "cell_type": "markdown",
   "metadata": {},
   "source": [
    "For custom initialization, we want to modify these tensors in place. These are actually autograd *Variables*, so we need to get back the actual tensors with `model.fc1.weight.data`. Once we have the tensors, we can fill them with zeros (for biases) or random normal values."
   ]
  },
  {
   "cell_type": "code",
   "execution_count": 16,
   "metadata": {},
   "outputs": [
    {
     "data": {
      "text/plain": [
       "tensor([0., 0., 0., 0., 0., 0., 0., 0., 0., 0., 0., 0., 0., 0., 0., 0., 0., 0., 0., 0., 0., 0., 0., 0.,\n",
       "        0., 0., 0., 0., 0., 0., 0., 0., 0., 0., 0., 0., 0., 0., 0., 0., 0., 0., 0., 0., 0., 0., 0., 0.,\n",
       "        0., 0., 0., 0., 0., 0., 0., 0., 0., 0., 0., 0., 0., 0., 0., 0., 0., 0., 0., 0., 0., 0., 0., 0.,\n",
       "        0., 0., 0., 0., 0., 0., 0., 0., 0., 0., 0., 0., 0., 0., 0., 0., 0., 0., 0., 0., 0., 0., 0., 0.,\n",
       "        0., 0., 0., 0., 0., 0., 0., 0., 0., 0., 0., 0., 0., 0., 0., 0., 0., 0., 0., 0., 0., 0., 0., 0.,\n",
       "        0., 0., 0., 0., 0., 0., 0., 0.])"
      ]
     },
     "execution_count": 16,
     "metadata": {},
     "output_type": "execute_result"
    }
   ],
   "source": [
    "# Set biases to all zeros\n",
    "model.fc1.bias.data.fill_(0)"
   ]
  },
  {
   "cell_type": "code",
   "execution_count": 17,
   "metadata": {},
   "outputs": [
    {
     "data": {
      "text/plain": [
       "tensor([[ 0.0055, -0.0061,  0.0073,  ..., -0.0110, -0.0162,  0.0011],\n",
       "        [-0.0048,  0.0036,  0.0174,  ...,  0.0006,  0.0117, -0.0067],\n",
       "        [ 0.0045, -0.0117,  0.0050,  ...,  0.0057,  0.0029, -0.0110],\n",
       "        ...,\n",
       "        [-0.0081,  0.0038, -0.0085,  ...,  0.0126, -0.0065, -0.0225],\n",
       "        [-0.0124,  0.0066,  0.0027,  ...,  0.0100,  0.0028,  0.0028],\n",
       "        [ 0.0065,  0.0051, -0.0173,  ..., -0.0093,  0.0112,  0.0267]])"
      ]
     },
     "execution_count": 17,
     "metadata": {},
     "output_type": "execute_result"
    }
   ],
   "source": [
    "# sample from random normal with standard dev = 0.01\n",
    "model.fc1.weight.data.normal_(std=0.01)"
   ]
  },
  {
   "cell_type": "markdown",
   "metadata": {},
   "source": [
    "### Forward pass\n",
    "\n",
    "Now that we have a network, let's see what happens when we pass in an image."
   ]
  },
  {
   "cell_type": "code",
   "execution_count": 18,
   "metadata": {},
   "outputs": [
    {
     "data": {
      "image/png": "[encoded data removed]",
      "text/plain": [
       "<Figure size 432x648 with 2 Axes>"
      ]
     },
     "metadata": {
      "image/png": {
       "height": 521,
       "width": 322
      },
      "needs_background": "light"
     },
     "output_type": "display_data"
    }
   ],
   "source": [
    "# Grab some data \n",
    "dataiter = iter(trainloader)\n",
    "images, labels = dataiter.next()\n",
    "\n",
    "# Resize images into a 1D vector, new shape is (batch size, color channels, image pixels) \n",
    "images.resize_(64, 1, 784)\n",
    "# or images.resize_(images.shape[0], 1, 784) to automatically get batch size\n",
    "\n",
    "# Forward pass through the network\n",
    "img_idx = 0\n",
    "ps = model.forward(images[img_idx,:])\n",
    "\n",
    "img = images[img_idx]\n",
    "import helper\n",
    "helper.view_classify(img.view(1, 28, 28), ps)"
   ]
  },
  {
   "cell_type": "markdown",
   "metadata": {},
   "source": [
    "As you can see above, our network has basically no idea what this digit is. It's because we haven't trained it yet, all the weights are random!\n",
    "\n",
    "### Using `nn.Sequential`\n",
    "\n",
    "PyTorch provides a convenient way to build networks like this where a tensor is passed sequentially through operations, `nn.Sequential` ([documentation](https://pytorch.org/docs/master/nn.html#torch.nn.Sequential)). Using this to build the equivalent network:"
   ]
  },
  {
   "cell_type": "code",
   "execution_count": 19,
   "metadata": {},
   "outputs": [
    {
     "name": "stdout",
     "output_type": "stream",
     "text": [
      "Sequential(\n",
      "  (0): Linear(in_features=784, out_features=128, bias=True)\n",
      "  (1): ReLU()\n",
      "  (2): Linear(in_features=128, out_features=64, bias=True)\n",
      "  (3): ReLU()\n",
      "  (4): Linear(in_features=64, out_features=10, bias=True)\n",
      "  (5): Softmax()\n",
      ")\n"
     ]
    },
    {
     "data": {
      "image/png": "[encoded data removed]",
      "text/plain": [
       "<Figure size 432x648 with 2 Axes>"
      ]
     },
     "metadata": {
      "image/png": {
       "height": 521,
       "width": 322
      },
      "needs_background": "light"
     },
     "output_type": "display_data"
    }
   ],
   "source": [
    "# Hyperparameters for our network\n",
    "input_size = 784\n",
    "hidden_sizes = [128, 64]\n",
    "output_size = 10\n",
    "\n",
    "# Build a feed-forward network\n",
    "model = nn.Sequential(nn.Linear(input_size, hidden_sizes[0]),\n",
    "                      nn.ReLU(),\n",
    "                      nn.Linear(hidden_sizes[0], hidden_sizes[1]),\n",
    "                      nn.ReLU(),\n",
    "                      nn.Linear(hidden_sizes[1], output_size),\n",
    "                      nn.Softmax(dim=1))\n",
    "print(model)\n",
    "\n",
    "# Forward pass through the network and display output\n",
    "images, labels = next(iter(trainloader))\n",
    "images.resize_(images.shape[0], 1, 784)\n",
    "ps = model.forward(images[0,:])\n",
    "helper.view_classify(images[0].view(1, 28, 28), ps)"
   ]
  },
  {
   "cell_type": "markdown",
   "metadata": {},
   "source": [
    "Here our model is the same as before: 784 input units, a hidden layer with 128 units, ReLU activation, 64 unit hidden layer, another ReLU, then the output layer with 10 units, and the softmax output.\n",
    "\n",
    "The operations are available by passing in the appropriate index. For example, if you want to get first Linear operation and look at the weights, you'd use `model[0]`."
   ]
  },
  {
   "cell_type": "code",
   "execution_count": 20,
   "metadata": {},
   "outputs": [
    {
     "name": "stdout",
     "output_type": "stream",
     "text": [
      "Linear(in_features=784, out_features=128, bias=True)\n"
     ]
    },
    {
     "data": {
      "text/plain": [
       "Parameter containing:\n",
       "tensor([[ 0.0060, -0.0021,  0.0357,  ...,  0.0316,  0.0315, -0.0157],\n",
       "        [-0.0229,  0.0328, -0.0258,  ...,  0.0124,  0.0188, -0.0277],\n",
       "        [-0.0094, -0.0026,  0.0142,  ..., -0.0004, -0.0018,  0.0307],\n",
       "        ...,\n",
       "        [ 0.0145, -0.0194, -0.0021,  ...,  0.0226,  0.0012, -0.0032],\n",
       "        [ 0.0251, -0.0012, -0.0007,  ..., -0.0347,  0.0329,  0.0252],\n",
       "        [-0.0052, -0.0168,  0.0023,  ...,  0.0192,  0.0343, -0.0105]],\n",
       "       requires_grad=True)"
      ]
     },
     "execution_count": 20,
     "metadata": {},
     "output_type": "execute_result"
    }
   ],
   "source": [
    "print(model[0])\n",
    "model[0].weight"
   ]
  },
  {
   "cell_type": "markdown",
   "metadata": {},
   "source": [
    "You can also pass in an `OrderedDict` to name the individual layers and operations, instead of using incremental integers. Note that dictionary keys must be unique, so _each operation must have a different name_."
   ]
  },
  {
   "cell_type": "code",
   "execution_count": 21,
   "metadata": {},
   "outputs": [
    {
     "data": {
      "text/plain": [
       "Sequential(\n",
       "  (fc1): Linear(in_features=784, out_features=128, bias=True)\n",
       "  (relu1): ReLU()\n",
       "  (fc2): Linear(in_features=128, out_features=64, bias=True)\n",
       "  (relu2): ReLU()\n",
       "  (output): Linear(in_features=64, out_features=10, bias=True)\n",
       "  (softmax): Softmax()\n",
       ")"
      ]
     },
     "execution_count": 21,
     "metadata": {},
     "output_type": "execute_result"
    }
   ],
   "source": [
    "from collections import OrderedDict\n",
    "model = nn.Sequential(OrderedDict([\n",
    "                      ('fc1', nn.Linear(input_size, hidden_sizes[0])),\n",
    "                      ('relu1', nn.ReLU()),\n",
    "                      ('fc2', nn.Linear(hidden_sizes[0], hidden_sizes[1])),\n",
    "                      ('relu2', nn.ReLU()),\n",
    "                      ('output', nn.Linear(hidden_sizes[1], output_size)),\n",
    "                      ('softmax', nn.Softmax(dim=1))]))\n",
    "model"
   ]
  },
  {
   "cell_type": "markdown",
   "metadata": {},
   "source": [
    "Now you can access layers either by integer or the name"
   ]
  },
  {
   "cell_type": "code",
   "execution_count": 22,
   "metadata": {},
   "outputs": [
    {
     "name": "stdout",
     "output_type": "stream",
     "text": [
      "Linear(in_features=784, out_features=128, bias=True)\n",
      "Linear(in_features=784, out_features=128, bias=True)\n"
     ]
    }
   ],
   "source": [
    "print(model[0])\n",
    "print(model.fc1)"
   ]
  },
  {
   "cell_type": "markdown",
   "metadata": {},
   "source": [
    "In the next notebook, we'll see how we can train a neural network to accuractly predict the numbers appearing in the MNIST images."
   ]
  },
  {
   "cell_type": "code",
   "execution_count": null,
   "metadata": {},
   "outputs": [],
   "source": []
  }
 ],
 "metadata": {
  "kernelspec": {
   "display_name": "Python 3",
   "language": "python",
   "name": "python3"
  },
  "language_info": {
   "codemirror_mode": {
    "name": "ipython",
    "version": 3
   },
   "file_extension": ".py",
   "mimetype": "text/x-python",
   "name": "python",
   "nbconvert_exporter": "python",
   "pygments_lexer": "ipython3",
   "version": "3.6.8"
  }
 },
 "nbformat": 4,
 "nbformat_minor": 2
}
