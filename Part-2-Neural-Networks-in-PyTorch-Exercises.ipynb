{
 "cells": [
  {
   "cell_type": "markdown",
   "metadata": {},
   "source": [
    "# Neural networks with PyTorch\n",
    "\n",
    "Deep learning networks tend to be massive with dozens or hundreds of layers, that's where the term \"deep\" comes from. You can build one of these deep networks using only weight matrices as we did in the previous notebook, but in general it's very cumbersome and difficult to implement. PyTorch has a nice module `nn` that provides a nice way to efficiently build large neural networks."
   ]
  },
  {
   "cell_type": "code",
   "execution_count": 2,
   "metadata": {},
   "outputs": [],
   "source": [
    "# Import necessary packages\n",
    "\n",
    "%matplotlib inline\n",
    "%config InlineBackend.figure_format = 'retina'\n",
    "\n",
    "import numpy as np\n",
    "import torch\n",
    "\n",
    "#import helper\n",
    "\n",
    "import matplotlib.pyplot as plt"
   ]
  },
  {
   "cell_type": "markdown",
   "metadata": {},
   "source": [
    "\n",
    "Now we're going to build a larger network that can solve a (formerly) difficult problem, identifying text in an image. Here we'll use the MNIST dataset which consists of greyscale handwritten digits. Each image is 28x28 pixels, you can see a sample below\n",
    "\n",
    "<img src='assets/mnist.png'>\n",
    "\n",
    "Our goal is to build a neural network that can take one of these images and predict the digit in the image.\n",
    "\n",
    "First up, we need to get our dataset. This is provided through the `torchvision` package. The code below will download the MNIST dataset, then create training and test datasets for us. Don't worry too much about the details here, you'll learn more about this later."
   ]
  },
  {
   "cell_type": "code",
   "execution_count": 3,
   "metadata": {},
   "outputs": [
    {
     "name": "stderr",
     "output_type": "stream",
     "text": [
      "\r",
      "0it [00:00, ?it/s]"
     ]
    },
    {
     "name": "stdout",
     "output_type": "stream",
     "text": [
      "Downloading http://yann.lecun.com/exdb/mnist/train-images-idx3-ubyte.gz to /root/.pytorch/MNIST_data/MNIST/raw/train-images-idx3-ubyte.gz\n"
     ]
    },
    {
     "name": "stderr",
     "output_type": "stream",
     "text": [
      "9920512it [00:01, 6239500.37it/s]                             \n"
     ]
    },
    {
     "name": "stdout",
     "output_type": "stream",
     "text": [
      "Extracting /root/.pytorch/MNIST_data/MNIST/raw/train-images-idx3-ubyte.gz\n"
     ]
    },
    {
     "name": "stderr",
     "output_type": "stream",
     "text": [
      "\r",
      "0it [00:00, ?it/s]"
     ]
    },
    {
     "name": "stdout",
     "output_type": "stream",
     "text": [
      "Downloading http://yann.lecun.com/exdb/mnist/train-labels-idx1-ubyte.gz to /root/.pytorch/MNIST_data/MNIST/raw/train-labels-idx1-ubyte.gz\n"
     ]
    },
    {
     "name": "stderr",
     "output_type": "stream",
     "text": [
      "32768it [00:00, 98837.91it/s]            \n",
      "0it [00:00, ?it/s]"
     ]
    },
    {
     "name": "stdout",
     "output_type": "stream",
     "text": [
      "Extracting /root/.pytorch/MNIST_data/MNIST/raw/train-labels-idx1-ubyte.gz\n",
      "Downloading http://yann.lecun.com/exdb/mnist/t10k-images-idx3-ubyte.gz to /root/.pytorch/MNIST_data/MNIST/raw/t10k-images-idx3-ubyte.gz\n"
     ]
    },
    {
     "name": "stderr",
     "output_type": "stream",
     "text": [
      "1654784it [00:00, 2016108.48it/s]                            \n",
      "0it [00:00, ?it/s]"
     ]
    },
    {
     "name": "stdout",
     "output_type": "stream",
     "text": [
      "Extracting /root/.pytorch/MNIST_data/MNIST/raw/t10k-images-idx3-ubyte.gz\n",
      "Downloading http://yann.lecun.com/exdb/mnist/t10k-labels-idx1-ubyte.gz to /root/.pytorch/MNIST_data/MNIST/raw/t10k-labels-idx1-ubyte.gz\n"
     ]
    },
    {
     "name": "stderr",
     "output_type": "stream",
     "text": [
      "8192it [00:00, 32045.84it/s]            \n"
     ]
    },
    {
     "name": "stdout",
     "output_type": "stream",
     "text": [
      "Extracting /root/.pytorch/MNIST_data/MNIST/raw/t10k-labels-idx1-ubyte.gz\n",
      "Processing...\n",
      "Done!\n"
     ]
    }
   ],
   "source": [
    "### Run this cell\n",
    "\n",
    "from torchvision import datasets, transforms\n",
    "\n",
    "# Define a transform to normalize the data\n",
    "transform = transforms.Compose([transforms.ToTensor(),\n",
    "                              transforms.Normalize((0.5,), (0.5,)),\n",
    "                              ])\n",
    "\n",
    "# Download and load the training data\n",
    "trainset = datasets.MNIST('~/.pytorch/MNIST_data/', download=True, train=True, transform=transform)\n",
    "trainloader = torch.utils.data.DataLoader(trainset, batch_size=64, shuffle=True)"
   ]
  },
  {
   "cell_type": "markdown",
   "metadata": {},
   "source": [
    "We have the training data loaded into `trainloader` and we make that an iterator with `iter(trainloader)`. Later, we'll use this to loop through the dataset for training, like\n",
    "\n",
    "```python\n",
    "for image, label in trainloader:\n",
    "    ## do things with images and labels\n",
    "```\n",
    "\n",
    "You'll notice I created the `trainloader` with a batch size of 64, and `shuffle=True`. The batch size is the number of images we get in one iteration from the data loader and pass through our network, often called a *batch*. And `shuffle=True` tells it to shuffle the dataset every time we start going through the data loader again. But here I'm just grabbing the first batch so we can check out the data. We can see below that `images` is just a tensor with size `(64, 1, 28, 28)`. So, 64 images per batch, 1 color channel, and 28x28 images."
   ]
  },
  {
   "cell_type": "code",
   "execution_count": 4,
   "metadata": {},
   "outputs": [
    {
     "name": "stdout",
     "output_type": "stream",
     "text": [
      "<class 'torch.Tensor'>\n",
      "torch.Size([64, 1, 28, 28])\n",
      "torch.Size([64])\n"
     ]
    }
   ],
   "source": [
    "dataiter = iter(trainloader)\n",
    "images, labels = dataiter.next()\n",
    "print(type(images))\n",
    "print(images.shape)\n",
    "print(labels.shape)"
   ]
  },
  {
   "cell_type": "markdown",
   "metadata": {},
   "source": [
    "This is what one of the images looks like. "
   ]
  },
  {
   "cell_type": "code",
   "execution_count": 5,
   "metadata": {},
   "outputs": [
    {
     "data": {
      "image/png": "[encoded data removed]",
      "text/plain": [
       "<Figure size 432x288 with 1 Axes>"
      ]
     },
     "metadata": {
      "image/png": {
       "height": 250,
       "width": 253
      },
      "needs_background": "light"
     },
     "output_type": "display_data"
    }
   ],
   "source": [
    "plt.imshow(images[1].numpy().squeeze(), cmap='Greys_r');"
   ]
  },
  {
   "cell_type": "markdown",
   "metadata": {},
   "source": [
    "First, let's try to build a simple network for this dataset using weight matrices and matrix multiplications. Then, we'll see how to do it using PyTorch's `nn` module which provides a much more convenient and powerful method for defining network architectures.\n",
    "\n",
    "The networks you've seen so far are called *fully-connected* or *dense* networks. Each unit in one layer is connected to each unit in the next layer. In fully-connected networks, the input to each layer must be a one-dimensional vector (which can be stacked into a 2D tensor as a batch of multiple examples). However, our images are 28x28 2D tensors, so we need to convert them into 1D vectors. Thinking about sizes, we need to convert the batch of images with shape `(64, 1, 28, 28)` to a have a shape of `(64, 784)`, 784 is 28 times 28. This is typically called *flattening*, we flattened the 2D images into 1D vectors.\n",
    "\n",
    "Previously you built a network with one output unit. Here we need 10 output units, one for each digit. We want our network to predict the digit shown in an image, so what we'll do is calculate probabilities that the image is of any one digit or class. This ends up being a discrete probability distribution over the classes (digits) that tells us the most likely class for the image. That means we need 10 output units for the 10 classes (digits). We'll see how to convert the network output into a probability distribution next.\n",
    "\n",
    "> **Exercise:** Flatten the batch of images `images`. Then build a multi-layer network with 784 input units, 256 hidden units, and 10 output units using random tensors for the weights and biases. For now, use a sigmoid activation for the hidden layer. Leave the output layer without an activation, we'll add one that gives us a probability distribution next."
   ]
  },
  {
   "cell_type": "code",
   "execution_count": 7,
   "metadata": {},
   "outputs": [],
   "source": [
    "## Your solution\n",
    "def activation(x):\n",
    "    return 1/(1+torch.exp(-x))\n",
    "\n",
    "#Flatten the input image\n",
    "inputs = images.view(images.shape[0], -1)\n",
    "\n",
    "#Create parameters\n",
    "w1 = torch.randn(784, 256)\n",
    "b1 = torch.randn(256)\n",
    "\n",
    "w2 = torch.randn(256, 10)\n",
    "b2 = torch.randn(10)\n",
    "\n",
    "h = activation(torch.mm(inputs, w1) + b1)\n",
    "\n",
    "\n",
    "out = torch.mm(h, w2) + b2# output of your network, should have shape (64,10)"
   ]
  },
  {
   "cell_type": "markdown",
   "metadata": {},
   "source": [
    "Now we have 10 outputs for our network. We want to pass in an image to our network and get out a probability distribution over the classes that tells us the likely class(es) the image belongs to. Something that looks like this:\n",
    "<img src='assets/image_distribution.png' width=500px>\n",
    "\n",
    "Here we see that the probability for each class is roughly the same. This is representing an untrained network, it hasn't seen any data yet so it just returns a uniform distribution with equal probabilities for each class.\n",
    "\n",
    "To calculate this probability distribution, we often use the [**softmax** function](https://en.wikipedia.org/wiki/Softmax_function). Mathematically this looks like\n",
    "\n",
    "$$\n",
    "\\Large \\sigma(x_i) = \\cfrac{e^{x_i}}{\\sum_k^K{e^{x_k}}}\n",
    "$$\n",
    "\n",
    "What this does is squish each input $x_i$ between 0 and 1 and normalizes the values to give you a proper probability distribution where the probabilites sum up to one.\n",
    "\n",
    "> **Exercise:** Implement a function `softmax` that performs the softmax calculation and returns probability distributions for each example in the batch. Note that you'll need to pay attention to the shapes when doing this. If you have a tensor `a` with shape `(64, 10)` and a tensor `b` with shape `(64,)`, doing `a/b` will give you an error because PyTorch will try to do the division across the columns (called broadcasting) but you'll get a size mismatch. The way to think about this is for each of the 64 examples, you only want to divide by one value, the sum in the denominator. So you need `b` to have a shape of `(64, 1)`. This way PyTorch will divide the 10 values in each row of `a` by the one value in each row of `b`. Pay attention to how you take the sum as well. You'll need to define the `dim` keyword in `torch.sum`. Setting `dim=0` takes the sum across the rows while `dim=1` takes the sum across the columns."
   ]
  },
  {
   "cell_type": "code",
   "execution_count": 14,
   "metadata": {},
   "outputs": [
    {
     "name": "stdout",
     "output_type": "stream",
     "text": [
      "torch.Size([64, 10])\n",
      "tensor([1.0000, 1.0000, 1.0000, 1.0000, 1.0000, 1.0000, 1.0000, 1.0000, 1.0000,\n",
      "        1.0000, 1.0000, 1.0000, 1.0000, 1.0000, 1.0000, 1.0000, 1.0000, 1.0000,\n",
      "        1.0000, 1.0000, 1.0000, 1.0000, 1.0000, 1.0000, 1.0000, 1.0000, 1.0000,\n",
      "        1.0000, 1.0000, 1.0000, 1.0000, 1.0000, 1.0000, 1.0000, 1.0000, 1.0000,\n",
      "        1.0000, 1.0000, 1.0000, 1.0000, 1.0000, 1.0000, 1.0000, 1.0000, 1.0000,\n",
      "        1.0000, 1.0000, 1.0000, 1.0000, 1.0000, 1.0000, 1.0000, 1.0000, 1.0000,\n",
      "        1.0000, 1.0000, 1.0000, 1.0000, 1.0000, 1.0000, 1.0000, 1.0000, 1.0000,\n",
      "        1.0000])\n"
     ]
    }
   ],
   "source": [
    "def softmax(x):\n",
    "    ## TODO: Implement the softmax function here\n",
    "    return torch.exp(x) / torch.sum(torch.exp(x), dim=1).view(-1,1)\n",
    "\n",
    "# Here, out should be the output of the network in the previous excercise with shape (64,10)\n",
    "probabilities = softmax(out)\n",
    "\n",
    "# Does it have the right shape? Should be (64, 10)\n",
    "print(probabilities.shape)\n",
    "# Does it sum to 1?\n",
    "print(probabilities.sum(dim=1))"
   ]
  },
  {
   "cell_type": "code",
   "execution_count": 17,
   "metadata": {},
   "outputs": [
    {
     "name": "stdout",
     "output_type": "stream",
     "text": [
      "tensor(277.3737)\n"
     ]
    }
   ],
   "source": [
    "print(torch.sum(out))"
   ]
  },
  {
   "cell_type": "code",
   "execution_count": 18,
   "metadata": {},
   "outputs": [
    {
     "name": "stdout",
     "output_type": "stream",
     "text": [
      "tensor([[ 1.3322e+01, -1.4926e+00,  6.0017e+00, -1.3530e+00, -5.7249e-01,\n",
      "          9.9624e-01, -1.4052e+01,  1.2921e+01,  6.5477e+00,  1.6172e+00],\n",
      "        [ 7.8107e+00,  5.1365e+00, -5.6064e-01,  3.3206e+00,  4.8687e+00,\n",
      "         -4.7108e+00, -1.0650e+01, -5.1876e-01,  2.0668e+00, -8.8595e+00],\n",
      "        [ 8.6548e+00, -1.0775e+00,  1.1880e+00,  1.5199e+00, -2.6729e+00,\n",
      "          3.4678e+00, -1.3177e+01,  3.6853e+00, -5.7160e+00, -4.1710e+00],\n",
      "        [ 8.7850e+00,  6.0046e+00,  6.2521e+00,  1.3964e+00, -2.9555e+00,\n",
      "          2.0383e+00, -1.5670e+01,  5.5267e+00, -6.5969e+00,  1.0631e+00],\n",
      "        [ 6.7354e-01,  3.1027e+00, -6.8972e+00, -1.5892e+00, -4.3379e+00,\n",
      "         -3.7329e+00, -7.9040e+00,  1.1782e+01,  8.3097e-01, -1.3509e+00],\n",
      "        [ 1.3964e+01,  7.0449e+00, -1.5506e+01, -4.2958e+00, -1.9727e+00,\n",
      "          1.0666e+01, -1.2460e+01, -2.7799e+00,  4.7630e+00,  5.0616e+00],\n",
      "        [ 1.0891e+01,  3.6883e+00,  4.8697e+00,  8.6232e-01,  2.1139e+00,\n",
      "          4.6481e+00, -1.4690e+01, -2.4506e+00, -2.4854e+00,  1.6355e-01],\n",
      "        [ 9.7516e+00,  7.9036e+00,  4.8421e+00,  4.4338e+00,  8.0171e+00,\n",
      "          2.3822e+00, -1.1964e+01,  7.3873e+00,  5.4092e+00, -1.0052e+01],\n",
      "        [ 1.3973e+01,  6.7126e-02, -1.1514e+00,  5.6092e+00, -3.5205e+00,\n",
      "          4.1828e+00, -1.1326e+01,  9.4030e-01, -4.1823e+00, -8.3361e-01],\n",
      "        [ 1.2715e+01, -1.0222e+00, -4.6089e+00,  2.1786e-01, -6.0614e+00,\n",
      "          7.5707e-01, -5.0607e+00, -2.4186e+00,  5.5978e+00,  1.0089e+01],\n",
      "        [ 9.3368e+00, -2.3488e+00,  3.1435e+00, -1.9691e+00, -9.4299e-01,\n",
      "          2.7901e+00, -1.0711e+01, -5.5207e-01, -4.0704e+00,  3.5361e+00],\n",
      "        [ 6.7209e+00,  6.7067e+00,  4.0713e-01,  2.6551e+00,  5.0657e-01,\n",
      "          2.2554e+00, -1.0316e+01,  1.9509e-02, -2.7714e+00, -1.1374e+00],\n",
      "        [ 1.6378e+01,  5.1584e+00, -2.5771e+00,  3.3208e+00,  5.4065e+00,\n",
      "          6.0408e-01, -1.4989e+01, -3.0537e+00,  3.3765e+00, -7.6022e+00],\n",
      "        [ 4.6157e+00,  5.3938e+00, -5.5081e+00,  1.3545e+00, -7.5187e+00,\n",
      "          1.1060e+01, -2.7345e+00, -3.8263e+00, -3.6550e+00, -1.5039e+00],\n",
      "        [ 9.1227e+00,  1.0803e+01, -6.2634e+00,  4.1074e+00, -1.0039e+00,\n",
      "          8.4227e+00, -3.7133e+00, -4.3786e+00, -4.2768e+00, -2.3330e+00],\n",
      "        [ 5.4521e+00,  2.2897e+00, -5.6098e+00,  3.9397e+00,  2.5931e+00,\n",
      "          7.2739e+00, -7.1123e+00,  1.7413e-01, -4.1119e+00, -3.9557e+00],\n",
      "        [ 9.2169e+00,  3.6278e+00,  9.3242e-01,  6.3880e+00,  3.0257e+00,\n",
      "         -1.4470e+00, -1.1876e+01, -4.1648e+00,  4.4325e+00, -9.3596e+00],\n",
      "        [ 3.5178e+00,  6.1501e+00,  3.1424e+00,  3.2406e+00,  6.8844e+00,\n",
      "          5.5672e+00, -5.6214e+00, -1.1575e+01, -2.6587e-02, -4.1026e+00],\n",
      "        [ 9.2749e+00,  8.3332e+00, -3.4982e+00, -1.6013e+00, -7.0409e+00,\n",
      "          1.1714e+01, -7.6416e+00, -4.3417e+00,  3.3549e+00, -2.4171e+00],\n",
      "        [ 7.2013e+00,  2.9559e+00, -9.0837e+00, -5.2494e+00,  6.2969e+00,\n",
      "          7.8202e+00, -1.1706e+01,  1.6419e-01,  3.4960e+00,  1.0953e+01],\n",
      "        [ 8.6786e+00,  3.8974e+00,  7.0326e+00, -8.1311e+00, -4.3604e+00,\n",
      "          2.3261e+00, -9.4897e+00,  5.2399e+00,  1.8887e+00, -1.7241e-01],\n",
      "        [-2.3813e+00,  1.7438e+00, -1.7319e+01, -1.2197e+01,  7.5912e+00,\n",
      "         -1.1203e+01, -1.4525e+01,  4.7912e+00, -5.6932e+00, -1.3023e+01],\n",
      "        [ 1.3047e+00,  5.0286e+00, -1.1496e+01, -1.5243e+00,  3.8484e+00,\n",
      "         -2.2422e+00, -8.5760e+00,  8.8843e+00, -3.0317e+00, -1.8091e+00],\n",
      "        [ 1.3838e+01,  2.2769e+00, -8.4067e-01,  2.9037e+00,  2.4789e+00,\n",
      "          6.3697e+00, -4.6661e+00,  2.8417e-01, -4.1803e+00,  1.9257e-01],\n",
      "        [ 5.8791e+00,  1.0569e+01,  6.0924e+00,  2.9903e+00, -7.4801e+00,\n",
      "          1.0672e+01, -1.5594e+01, -3.7966e+00,  2.2028e+00,  1.8670e-01],\n",
      "        [ 6.6261e+00,  6.5699e-01,  5.6385e+00,  1.5267e+00,  5.9358e+00,\n",
      "         -3.6078e-01, -1.3735e+01, -4.8183e+00, -1.6759e+00, -5.5893e+00],\n",
      "        [ 5.7842e+00,  1.6783e+00, -6.5433e+00,  8.3110e+00, -2.1617e+00,\n",
      "          1.2031e+00, -3.9935e+00, -5.0173e+00,  8.1848e+00, -1.4340e+01],\n",
      "        [-1.9194e-01,  1.0305e+01, -4.1611e+00,  3.0219e+00, -6.9993e-01,\n",
      "         -5.6542e+00, -4.8276e+00, -8.3536e+00,  3.1595e-01, -1.0661e+00],\n",
      "        [ 1.6848e+01,  2.8215e+00, -2.2942e+00,  3.3949e+00,  4.3386e+00,\n",
      "          6.9981e+00, -8.0302e+00, -1.9536e+00,  3.8264e+00,  8.2883e+00],\n",
      "        [ 4.4994e+00,  3.8584e+00, -1.3158e+01, -9.6473e+00,  6.7448e+00,\n",
      "         -2.5960e+00, -2.4321e+00,  3.1942e+00,  6.0066e+00, -1.6536e-01],\n",
      "        [ 8.7903e+00,  1.2460e+01,  7.9475e+00,  8.5755e-01,  7.5528e+00,\n",
      "         -4.9227e+00, -1.2372e+01,  1.1123e+01, -2.4841e+00, -1.9903e+00],\n",
      "        [ 8.3235e+00, -1.3720e+00, -6.7578e-01,  1.6483e+00,  1.1207e+01,\n",
      "          3.0725e+00, -6.7929e+00,  9.7537e+00, -3.1686e+00, -9.1562e-01],\n",
      "        [ 1.6049e+01,  6.0822e+00, -9.1594e-01, -1.4823e+00, -6.8757e+00,\n",
      "          8.7016e+00, -8.5491e+00,  8.8407e+00,  6.0441e+00, -3.3994e+00],\n",
      "        [ 1.8629e+00,  5.4019e+00, -9.3345e+00, -3.6601e-01, -1.2744e+01,\n",
      "          2.3045e+00, -6.0319e+00,  1.0795e+00, -8.5545e+00, -6.0377e+00],\n",
      "        [ 9.2139e-01,  6.9767e+00, -6.1858e-01, -9.2831e+00,  2.0676e+00,\n",
      "          1.3406e+00, -9.9584e+00, -6.7014e+00, -6.8053e-01,  1.1719e+01],\n",
      "        [ 1.6995e+01,  1.1247e+00,  2.3319e+00, -4.9870e+00,  4.8642e+00,\n",
      "          7.8137e+00, -1.2350e+01,  2.0888e+00, -1.3348e+00, -6.2946e+00],\n",
      "        [ 4.8554e+00,  3.7311e+00,  1.4610e+00,  6.3480e+00, -5.7156e+00,\n",
      "          6.4740e+00, -1.4361e+01,  4.2642e+00, -4.7198e+00, -2.2568e+00],\n",
      "        [ 8.7792e+00,  1.0935e+01,  2.4007e+00,  2.4973e+00, -3.9541e+00,\n",
      "          8.4619e+00, -7.3858e+00, -2.6854e+00,  1.9282e-01, -1.4787e+00],\n",
      "        [ 6.9359e+00,  1.3537e+00, -8.0311e-02,  1.2924e+00,  1.9658e+00,\n",
      "         -6.2202e+00, -2.6888e+00,  1.5717e+00, -5.0156e+00, -7.1167e+00],\n",
      "        [ 1.2051e+01,  1.2031e+01, -9.2966e+00, -8.1409e-01,  9.2763e+00,\n",
      "         -1.2006e+00, -5.8699e+00,  4.7381e+00, -3.5515e+00, -5.3147e+00],\n",
      "        [ 6.5329e+00,  2.9618e+00, -4.6936e+00,  4.7654e+00, -7.8392e+00,\n",
      "          2.2522e+00, -3.2140e+00,  6.2589e-01,  1.0581e+01, -7.2035e+00],\n",
      "        [ 3.4316e+00,  8.8139e+00,  3.1106e+00, -3.6584e+00, -1.5826e+00,\n",
      "          8.5613e-02, -7.0319e+00,  9.0341e+00,  4.6823e+00, -9.2383e+00],\n",
      "        [ 7.7085e+00,  7.4500e+00,  2.5947e+00,  4.8737e+00, -2.2074e+00,\n",
      "          6.3954e+00, -1.0990e+01,  4.4515e+00, -8.8279e+00, -7.4660e+00],\n",
      "        [ 1.4385e+01,  6.2312e+00, -1.7118e+00,  2.7024e+00,  2.3791e+00,\n",
      "          5.1840e-01, -1.2720e+01,  5.5088e+00, -8.0673e+00, -1.5143e+00],\n",
      "        [ 2.5690e+00,  4.6419e+00, -6.4369e+00, -3.4817e+00,  1.0262e+01,\n",
      "          8.9013e+00, -1.7141e+00,  2.5156e-02,  8.8444e-01, -3.0893e+00],\n",
      "        [ 1.3374e+01,  2.1153e+00, -4.1253e+00, -2.2911e+00,  7.4495e+00,\n",
      "          1.0991e+01, -6.7836e+00,  2.6149e+00, -1.8816e+00,  2.8939e+00],\n",
      "        [ 6.6848e+00,  8.4519e+00, -1.1511e+01,  6.5790e-01,  3.4748e+00,\n",
      "          1.6597e+00, -7.3622e+00,  1.1667e+01,  5.4961e+00, -1.1114e+01],\n",
      "        [ 3.0002e-01,  3.7118e+00, -4.3959e+00, -9.5286e-01, -8.1859e+00,\n",
      "          6.8651e+00, -1.9078e+01,  4.8441e+00,  4.6039e+00, -2.5028e+00],\n",
      "        [ 1.0422e+01,  3.8529e+00, -4.0302e+00,  6.1550e+00, -1.8377e+00,\n",
      "         -8.7514e-01, -9.3990e+00,  3.6546e+00, -5.0561e+00, -6.2231e+00],\n",
      "        [ 9.2999e+00,  6.9735e+00, -1.3705e+00,  8.5308e-02,  6.2035e+00,\n",
      "         -7.1412e+00, -7.9382e+00, -3.0910e+00, -3.2014e+00, -6.7449e+00],\n",
      "        [ 1.0175e+01,  5.8775e+00,  8.9593e-01,  6.3871e+00,  7.3431e-01,\n",
      "          7.0796e+00, -9.2167e+00,  1.1179e+00, -3.5329e+00,  3.7728e+00],\n",
      "        [ 5.6410e+00,  6.9320e+00,  4.2975e+00, -2.9841e+00,  6.3205e+00,\n",
      "          1.1458e+00, -9.1062e+00, -6.0773e+00, -2.9947e+00, -1.1480e-01],\n",
      "        [ 1.0545e+01, -1.9769e+00, -6.4572e+00, -2.1404e+00, -3.7083e+00,\n",
      "         -1.1957e+00, -4.8266e+00,  4.6623e-01, -3.8085e-01, -1.0621e+01],\n",
      "        [ 5.5043e+00,  1.7944e+01,  1.7820e+00, -4.3045e+00,  6.8701e+00,\n",
      "          5.7116e+00, -1.0763e+01, -4.5065e+00, -2.1130e+00, -4.8984e+00],\n",
      "        [ 1.2126e+01,  4.7894e+00,  1.0149e+01,  1.0440e+01,  6.7793e+00,\n",
      "          1.1809e+01, -6.9549e+00,  8.6777e+00,  4.9020e+00, -2.5458e+00],\n",
      "        [-5.1271e+00,  4.2087e+00,  1.6656e+00,  5.1804e+00, -7.8930e+00,\n",
      "          6.3817e+00, -9.2765e+00,  4.5665e-03, -1.0882e+01,  2.0127e+00],\n",
      "        [ 5.4236e+00,  6.9423e+00, -5.1319e+00, -5.0852e+00, -6.6937e+00,\n",
      "         -6.5345e+00, -1.0028e+01,  9.2247e+00,  7.8501e-01, -5.8083e+00],\n",
      "        [ 1.6827e+01,  4.2847e+00, -1.2980e+01,  1.3007e+00,  1.0663e+01,\n",
      "          3.1388e+00, -1.2449e+01,  1.1792e+01,  1.0352e+01, -8.9044e+00],\n",
      "        [ 2.6818e+00, -1.6725e-02, -1.8855e+01, -6.8128e-01,  7.0740e+00,\n",
      "         -1.6087e+00, -8.7396e+00, -8.5320e-01,  3.8010e+00,  4.7402e+00],\n",
      "        [-3.6334e+00, -6.8786e+00, -1.3108e+01,  1.0705e+01, -6.3538e+00,\n",
      "         -1.3987e+00, -1.5777e+01, -2.6233e+00, -1.8700e+00, -6.0779e+00],\n",
      "        [ 1.7558e+01,  1.2967e+01, -6.2575e+00,  1.3135e+00, -9.6034e-01,\n",
      "          3.8521e+00, -3.7237e+00, -2.7751e+00,  8.1456e+00,  3.1098e+00],\n",
      "        [ 1.3400e+01, -4.9870e+00, -3.6021e+00,  2.7833e+00, -4.9591e+00,\n",
      "          5.9903e+00, -9.0786e+00, -7.9762e-01,  2.1285e+00,  2.1261e+00],\n",
      "        [ 1.1327e+01,  1.1301e+01, -3.1767e+00, -6.9868e-01,  2.1345e+00,\n",
      "          7.0370e+00, -7.2591e+00, -2.3237e+00,  8.8575e+00, -2.7511e+00],\n",
      "        [ 1.1508e+01,  1.0449e+01, -1.0673e+01,  4.4469e+00, -2.2435e+00,\n",
      "          9.0508e+00, -9.8293e+00, -7.5373e-01,  2.5884e+00, -2.7963e+00]])\n"
     ]
    }
   ],
   "source": [
    "print(out)\n"
   ]
  },
  {
   "cell_type": "code",
   "execution_count": 21,
   "metadata": {},
   "outputs": [
    {
     "name": "stdout",
     "output_type": "stream",
     "text": [
      "tensor([[5.9822e-01, 2.2027e-07, 3.9602e-04, 2.5328e-07, 5.5281e-07, 2.6538e-06,\n",
      "         7.7339e-13, 4.0070e-01, 6.8363e-04, 4.9381e-06],\n",
      "        [8.7981e-01, 6.0670e-02, 2.0359e-04, 9.8706e-03, 4.6416e-02, 3.2089e-06,\n",
      "         8.4541e-09, 2.1230e-04, 2.8173e-03, 5.0651e-08],\n",
      "        [9.8621e-01, 5.8521e-05, 5.6388e-04, 7.8583e-04, 1.1869e-05, 5.5115e-03,\n",
      "         3.2535e-10, 6.8506e-03, 5.6599e-07, 2.6534e-06],\n",
      "        [8.4593e-01, 5.2458e-02, 6.7191e-02, 5.2299e-04, 6.7374e-06, 9.9372e-04,\n",
      "         2.0256e-11, 3.2527e-02, 1.7662e-07, 3.7474e-04],\n",
      "        [1.4984e-05, 1.7006e-04, 7.7209e-09, 1.5592e-06, 9.9805e-08, 1.8277e-07,\n",
      "         2.8212e-09, 9.9979e-01, 1.7538e-05, 1.9789e-06],\n",
      "        [9.6322e-01, 9.5219e-04, 1.5313e-13, 1.1311e-08, 1.1545e-07, 3.5599e-02,\n",
      "         3.2199e-12, 5.1506e-08, 9.7203e-05, 1.3103e-04],\n",
      "        [9.9469e-01, 7.4060e-04, 2.4135e-03, 4.3881e-05, 1.5340e-04, 1.9338e-03,\n",
      "         7.7290e-12, 1.5977e-06, 1.5431e-06, 2.1818e-05],\n",
      "        [6.8777e-01, 1.0836e-01, 5.0731e-03, 3.3723e-03, 1.2138e-01, 4.3345e-04,\n",
      "         2.5493e-10, 6.4661e-02, 8.9447e-03, 1.7259e-09],\n",
      "        [9.9971e-01, 9.1321e-07, 2.7000e-07, 2.3305e-04, 2.5262e-08, 5.5972e-05,\n",
      "         1.0298e-11, 2.1867e-06, 1.3033e-08, 3.7101e-07],\n",
      "        [9.3181e-01, 1.0075e-06, 2.7899e-08, 3.4819e-06, 6.5278e-09, 5.9702e-06,\n",
      "         1.7757e-08, 2.4934e-07, 7.5558e-04, 6.7428e-02],\n",
      "        [9.9343e-01, 8.3583e-06, 2.0296e-03, 1.2219e-05, 3.4094e-05, 1.4254e-03,\n",
      "         1.9529e-09, 5.0402e-05, 1.4943e-06, 3.0056e-03],\n",
      "        [4.9505e-01, 4.8805e-01, 8.9664e-04, 8.4894e-03, 9.9038e-04, 5.6923e-03,\n",
      "         1.9743e-08, 6.0852e-04, 3.7342e-05, 1.9135e-04],\n",
      "        [9.9996e-01, 1.3406e-05, 5.8588e-09, 2.1342e-06, 1.7180e-05, 1.4105e-07,\n",
      "         2.3855e-14, 3.6374e-09, 2.2564e-06, 3.8496e-11],\n",
      "        [1.5815e-03, 3.4436e-03, 6.3438e-08, 6.0637e-05, 8.4948e-09, 9.9491e-01,\n",
      "         1.0160e-06, 3.4101e-07, 4.0473e-07, 3.4784e-06],\n",
      "        [1.4556e-01, 7.8118e-01, 3.0266e-08, 9.6588e-04, 5.8227e-06, 7.2287e-02,\n",
      "         3.8766e-07, 1.9929e-07, 2.2065e-07, 1.5414e-06],\n",
      "        [1.3319e-01, 5.6371e-03, 2.0909e-06, 2.9352e-02, 7.6351e-03, 8.2348e-01,\n",
      "         4.6541e-07, 6.7963e-04, 9.3509e-06, 1.0932e-05],\n",
      "        [9.3154e-01, 3.4823e-03, 2.3511e-04, 5.5028e-02, 1.9072e-03, 2.1773e-05,\n",
      "         6.4372e-10, 1.4375e-06, 7.7866e-03, 7.9712e-09],\n",
      "        [1.8823e-02, 2.6177e-01, 1.2932e-02, 1.4266e-02, 5.4553e-01, 1.4613e-01,\n",
      "         2.0211e-06, 5.2483e-09, 5.4375e-04, 9.2303e-06],\n",
      "        [7.7799e-02, 3.0339e-02, 2.2064e-07, 1.4705e-06, 6.3843e-09, 8.9165e-01,\n",
      "         3.5011e-09, 9.4921e-08, 2.0890e-04, 6.5043e-07],\n",
      "        [2.1788e-02, 3.1221e-04, 1.8438e-09, 8.5296e-08, 8.8197e-03, 4.0459e-02,\n",
      "         1.3394e-10, 1.9144e-05, 5.3582e-04, 9.2807e-01],\n",
      "        [8.0885e-01, 6.7831e-03, 1.5596e-01, 4.0503e-08, 1.7583e-06, 1.4093e-03,\n",
      "         1.0410e-08, 2.5968e-02, 9.1003e-04, 1.1585e-04],\n",
      "        [4.3873e-05, 2.7145e-03, 1.4281e-11, 2.3952e-09, 9.4007e-01, 6.4680e-09,\n",
      "         2.3336e-10, 5.7168e-02, 1.5990e-06, 1.0482e-09],\n",
      "        [4.9674e-04, 2.0578e-02, 1.3698e-09, 2.9344e-05, 6.3221e-03, 1.4313e-05,\n",
      "         2.5409e-08, 9.7253e-01, 6.4989e-06, 2.2070e-05],\n",
      "        [9.9939e-01, 9.5206e-06, 4.2142e-07, 1.7818e-05, 1.1651e-05, 5.7033e-04,\n",
      "         9.1912e-09, 1.2979e-06, 1.4940e-08, 1.1843e-06],\n",
      "        [4.3154e-03, 4.6954e-01, 5.3410e-03, 2.4012e-04, 6.8106e-09, 5.2044e-01,\n",
      "         2.0396e-12, 2.7095e-07, 1.0924e-04, 1.4549e-05],\n",
      "        [5.3086e-01, 1.3572e-03, 1.9774e-01, 3.2384e-03, 2.6618e-01, 4.9048e-04,\n",
      "         7.6226e-10, 5.6852e-06, 1.3166e-04, 2.6298e-06],\n",
      "        [4.0699e-02, 6.7053e-04, 1.8022e-07, 5.0929e-01, 1.4412e-05, 4.1689e-04,\n",
      "         2.3076e-06, 8.2903e-07, 4.4891e-01, 7.4106e-11],\n",
      "        [2.7601e-05, 9.9921e-01, 5.2136e-07, 6.8653e-04, 1.6607e-05, 1.1714e-07,\n",
      "         2.6773e-07, 7.8770e-09, 4.5866e-05, 1.1516e-05],\n",
      "        [9.9975e-01, 8.0948e-07, 4.8581e-09, 1.4362e-06, 3.6902e-06, 5.2733e-05,\n",
      "         1.5681e-11, 6.8295e-09, 2.2111e-06, 1.9161e-04],\n",
      "        [6.3426e-02, 3.3411e-02, 1.3602e-09, 4.5543e-08, 5.9897e-01, 5.2571e-05,\n",
      "         6.1936e-05, 1.7195e-02, 2.8629e-01, 5.9755e-04],\n",
      "        [1.9508e-02, 7.6547e-01, 8.3982e-03, 6.9995e-06, 5.6597e-03, 2.1615e-08,\n",
      "         1.2579e-11, 2.0095e-01, 2.4763e-07, 4.0577e-07],\n",
      "        [4.3363e-02, 2.6693e-06, 5.3552e-06, 5.4716e-05, 7.7511e-01, 2.2731e-04,\n",
      "         1.1808e-08, 1.8123e-01, 4.4276e-07, 4.2132e-06],\n",
      "        [9.9852e-01, 4.6874e-05, 4.2825e-08, 2.4306e-08, 1.1051e-10, 6.4349e-04,\n",
      "         2.0733e-11, 7.3949e-04, 4.5125e-05, 3.5740e-09],\n",
      "        [2.6627e-02, 9.1691e-01, 3.6506e-07, 2.8664e-03, 1.2067e-08, 4.1411e-02,\n",
      "         9.9236e-06, 1.2165e-02, 7.9639e-07, 9.8665e-06],\n",
      "        [2.0274e-05, 8.6445e-03, 4.3464e-06, 7.5024e-10, 6.3784e-05, 3.0832e-05,\n",
      "         3.8186e-10, 9.9178e-09, 4.0853e-06, 9.9123e-01],\n",
      "        [9.9989e-01, 1.2811e-07, 4.2841e-07, 2.8399e-10, 5.3906e-06, 1.0294e-04,\n",
      "         1.8011e-13, 3.3594e-07, 1.0950e-08, 7.6807e-11],\n",
      "        [8.7661e-02, 2.8480e-02, 2.9419e-03, 3.8996e-01, 2.2484e-06, 4.4234e-01,\n",
      "         3.9557e-10, 4.8536e-02, 6.0860e-06, 7.1454e-05],\n",
      "        [9.6433e-02, 8.3299e-01, 1.6371e-04, 1.8032e-04, 2.8458e-07, 7.0214e-02,\n",
      "         9.2017e-09, 1.0121e-06, 1.7997e-05, 3.3829e-06],\n",
      "        [9.8049e-01, 3.6908e-03, 8.7974e-04, 3.4714e-03, 6.8073e-03, 1.8960e-06,\n",
      "         6.4791e-05, 4.5900e-03, 6.3240e-06, 7.7354e-07],\n",
      "        [4.8944e-01, 4.7970e-01, 2.6212e-10, 1.2660e-06, 3.0524e-02, 8.6012e-07,\n",
      "         8.0666e-09, 3.2635e-04, 8.1952e-08, 1.4055e-08],\n",
      "        [1.7101e-02, 4.8093e-04, 2.2772e-07, 2.9200e-03, 9.8007e-09, 2.3655e-04,\n",
      "         9.9991e-07, 4.6517e-05, 9.7921e-01, 1.8508e-08],\n",
      "        [2.0247e-03, 4.4042e-01, 1.4688e-03, 1.6875e-06, 1.3451e-05, 7.1322e-05,\n",
      "         5.7826e-08, 5.4892e-01, 7.0721e-03, 6.3665e-09],\n",
      "        [4.6631e-01, 3.6009e-01, 2.8041e-03, 2.7386e-02, 2.3027e-05, 1.2543e-01,\n",
      "         3.5321e-09, 1.7954e-02, 3.0689e-08, 1.1981e-07],\n",
      "        [9.9956e-01, 2.8757e-04, 1.0214e-07, 8.4375e-06, 6.1068e-06, 9.5002e-07,\n",
      "         1.6911e-12, 1.3965e-04, 1.7743e-10, 1.2444e-07],\n",
      "        [3.6170e-04, 2.8746e-03, 4.4373e-08, 8.5228e-07, 7.9322e-01, 2.0344e-01,\n",
      "         4.9916e-06, 2.8416e-05, 6.7104e-05, 1.2617e-06],\n",
      "        [9.1326e-01, 1.1771e-05, 2.2938e-08, 1.4360e-07, 2.4403e-03, 8.4241e-02,\n",
      "         1.6072e-09, 1.9398e-05, 2.1625e-07, 2.5643e-05],\n",
      "        [6.5371e-03, 3.8267e-02, 8.1873e-11, 1.5774e-05, 2.6381e-04, 4.2955e-05,\n",
      "         5.1863e-09, 9.5288e-01, 1.9913e-03, 1.2177e-10],\n",
      "        [1.0993e-03, 3.3332e-02, 1.0040e-05, 3.1406e-04, 2.2684e-07, 7.8042e-01,\n",
      "         4.2203e-12, 1.0342e-01, 8.1334e-02, 6.6662e-05],\n",
      "        [9.8368e-01, 1.3800e-03, 5.2034e-07, 1.3794e-02, 4.6612e-06, 1.2205e-05,\n",
      "         2.4246e-09, 1.1318e-03, 1.8654e-07, 5.8067e-08],\n",
      "        [8.7490e-01, 8.5435e-02, 2.0318e-05, 8.7120e-05, 3.9554e-02, 6.3340e-08,\n",
      "         2.8546e-08, 3.6363e-06, 3.2564e-06, 9.4143e-08],\n",
      "        [9.2294e-01, 1.2560e-02, 8.6205e-05, 2.0908e-02, 7.3340e-05, 4.1788e-02,\n",
      "         3.4969e-09, 1.0763e-04, 1.0283e-06, 1.5309e-03],\n",
      "        [1.4524e-01, 5.2817e-01, 3.7899e-02, 2.6077e-05, 2.8656e-01, 1.6213e-03,\n",
      "         5.7211e-08, 1.1828e-06, 2.5802e-05, 4.5961e-04],\n",
      "        [9.9992e-01, 3.6464e-06, 4.1313e-08, 3.0966e-06, 6.4554e-07, 7.9643e-06,\n",
      "         2.1100e-07, 4.1968e-05, 1.7990e-05, 6.4206e-10],\n",
      "        [3.9578e-06, 9.9998e-01, 9.5695e-08, 2.1753e-10, 1.5511e-05, 4.8692e-06,\n",
      "         3.4081e-13, 1.7774e-10, 1.9467e-09, 1.2012e-10],\n",
      "        [4.7856e-01, 3.1162e-04, 6.6248e-02, 8.8653e-02, 2.2795e-03, 3.4838e-01,\n",
      "         2.4725e-09, 1.5217e-02, 3.4877e-04, 2.0324e-07],\n",
      "        [6.9832e-06, 7.9167e-02, 6.2245e-03, 2.0918e-01, 4.3938e-07, 6.9543e-01,\n",
      "         1.1015e-07, 1.1822e-03, 2.2120e-08, 8.8071e-03],\n",
      "        [1.9871e-02, 9.0731e-02, 5.1761e-07, 5.4234e-07, 1.0857e-07, 1.2731e-07,\n",
      "         3.8710e-09, 8.8920e-01, 1.9217e-04, 2.6319e-07],\n",
      "        [9.8994e-01, 3.5364e-06, 1.1235e-13, 1.7890e-07, 2.0836e-03, 1.1244e-06,\n",
      "         1.9114e-13, 6.4423e-03, 1.5256e-03, 6.6161e-12],\n",
      "        [1.0770e-02, 7.2481e-04, 4.7736e-12, 3.7292e-04, 8.7034e-01, 1.4751e-04,\n",
      "         1.1801e-07, 3.1402e-04, 3.2979e-02, 8.4356e-02],\n",
      "        [5.9286e-07, 2.3098e-08, 4.5537e-11, 9.9999e-01, 3.9039e-08, 5.5395e-06,\n",
      "         3.1565e-12, 1.6279e-06, 3.4576e-06, 5.1440e-08],\n",
      "        [9.8988e-01, 1.0042e-02, 4.4928e-11, 8.7213e-08, 8.9757e-09, 1.1043e-06,\n",
      "         5.6621e-10, 1.4619e-09, 8.0856e-05, 5.2565e-07],\n",
      "        [9.9934e-01, 1.0338e-08, 4.1294e-08, 2.4493e-05, 1.0630e-08, 6.0509e-04,\n",
      "         1.7279e-10, 6.8214e-07, 1.2725e-05, 1.2694e-05],\n",
      "        [4.8245e-01, 4.7006e-01, 2.4238e-07, 2.8885e-06, 4.9105e-05, 6.6103e-03,\n",
      "         4.0881e-09, 5.6877e-07, 4.0821e-02, 3.7094e-07],\n",
      "        [6.9754e-01, 2.4200e-01, 1.6229e-10, 5.9838e-04, 7.4369e-07, 5.9764e-02,\n",
      "         3.7748e-10, 3.2990e-06, 9.3288e-05, 4.2787e-07]])\n"
     ]
    }
   ],
   "source": [
    "print(probabilities)"
   ]
  },
  {
   "cell_type": "markdown",
   "metadata": {},
   "source": [
    "## Building networks with PyTorch\n",
    "\n",
    "PyTorch provides a module `nn` that makes building networks much simpler. Here I'll show you how to build the same one as above with 784 inputs, 256 hidden units, 10 output units and a softmax output."
   ]
  },
  {
   "cell_type": "code",
   "execution_count": 22,
   "metadata": {},
   "outputs": [],
   "source": [
    "from torch import nn"
   ]
  },
  {
   "cell_type": "code",
   "execution_count": 23,
   "metadata": {},
   "outputs": [],
   "source": [
    "class Network(nn.Module):\n",
    "    def __init__(self):\n",
    "        super().__init__()\n",
    "        \n",
    "        # Inputs to hidden layer linear transformation\n",
    "        self.hidden = nn.Linear(784, 256)\n",
    "        # Output layer, 10 units - one for each digit\n",
    "        self.output = nn.Linear(256, 10)\n",
    "        \n",
    "        # Define sigmoid activation and softmax output \n",
    "        self.sigmoid = nn.Sigmoid()\n",
    "        self.softmax = nn.Softmax(dim=1)\n",
    "        \n",
    "    def forward(self, x):\n",
    "        # Pass the input tensor through each of our operations\n",
    "        x = self.hidden(x)\n",
    "        x = self.sigmoid(x)\n",
    "        x = self.output(x)\n",
    "        x = self.softmax(x)\n",
    "        \n",
    "        return x"
   ]
  },
  {
   "cell_type": "markdown",
   "metadata": {},
   "source": [
    "Let's go through this bit by bit.\n",
    "\n",
    "```python\n",
    "class Network(nn.Module):\n",
    "```\n",
    "\n",
    "Here we're inheriting from `nn.Module`. Combined with `super().__init__()` this creates a class that tracks the architecture and provides a lot of useful methods and attributes. It is mandatory to inherit from `nn.Module` when you're creating a class for your network. The name of the class itself can be anything.\n",
    "\n",
    "```python\n",
    "self.hidden = nn.Linear(784, 256)\n",
    "```\n",
    "\n",
    "This line creates a module for a linear transformation, $x\\mathbf{W} + b$, with 784 inputs and 256 outputs and assigns it to `self.hidden`. The module automatically creates the weight and bias tensors which we'll use in the `forward` method. You can access the weight and bias tensors once the network (`net`) is created with `net.hidden.weight` and `net.hidden.bias`.\n",
    "\n",
    "```python\n",
    "self.output = nn.Linear(256, 10)\n",
    "```\n",
    "\n",
    "Similarly, this creates another linear transformation with 256 inputs and 10 outputs.\n",
    "\n",
    "```python\n",
    "self.sigmoid = nn.Sigmoid()\n",
    "self.softmax = nn.Softmax(dim=1)\n",
    "```\n",
    "\n",
    "Here I defined operations for the sigmoid activation and softmax output. Setting `dim=1` in `nn.Softmax(dim=1)` calculates softmax across the columns.\n",
    "\n",
    "```python\n",
    "def forward(self, x):\n",
    "```\n",
    "\n",
    "PyTorch networks created with `nn.Module` must have a `forward` method defined. It takes in a tensor `x` and passes it through the operations you defined in the `__init__` method.\n",
    "\n",
    "```python\n",
    "x = self.hidden(x)\n",
    "x = self.sigmoid(x)\n",
    "x = self.output(x)\n",
    "x = self.softmax(x)\n",
    "```\n",
    "\n",
    "Here the input tensor `x` is passed through each operation and reassigned to `x`. We can see that the input tensor goes through the hidden layer, then a sigmoid function, then the output layer, and finally the softmax function. It doesn't matter what you name the variables here, as long as the inputs and outputs of the operations match the network architecture you want to build. The order in which you define things in the `__init__` method doesn't matter, but you'll need to sequence the operations correctly in the `forward` method.\n",
    "\n",
    "Now we can create a `Network` object."
   ]
  },
  {
   "cell_type": "code",
   "execution_count": null,
   "metadata": {
    "collapsed": true
   },
   "outputs": [],
   "source": [
    "# Create the network and look at it's text representation\n",
    "model = Network()\n",
    "model"
   ]
  },
  {
   "cell_type": "markdown",
   "metadata": {},
   "source": [
    "You can define the network somewhat more concisely and clearly using the `torch.nn.functional` module. This is the most common way you'll see networks defined as many operations are simple element-wise functions. We normally import this module as `F`, `import torch.nn.functional as F`."
   ]
  },
  {
   "cell_type": "code",
   "execution_count": null,
   "metadata": {
    "collapsed": true
   },
   "outputs": [],
   "source": [
    "import torch.nn.functional as F\n",
    "\n",
    "class Network(nn.Module):\n",
    "    def __init__(self):\n",
    "        super().__init__()\n",
    "        # Inputs to hidden layer linear transformation\n",
    "        self.hidden = nn.Linear(784, 256)\n",
    "        # Output layer, 10 units - one for each digit\n",
    "        self.output = nn.Linear(256, 10)\n",
    "        \n",
    "    def forward(self, x):\n",
    "        # Hidden layer with sigmoid activation\n",
    "        x = F.sigmoid(self.hidden(x))\n",
    "        # Output layer with softmax activation\n",
    "        x = F.softmax(self.output(x), dim=1)\n",
    "        \n",
    "        return x"
   ]
  },
  {
   "cell_type": "markdown",
   "metadata": {},
   "source": [
    "### Activation functions\n",
    "\n",
    "So far we've only been looking at the sigmoid activation function, but in general any function can be used as an activation function. The only requirement is that for a network to approximate a non-linear function, the activation functions must be non-linear. Here are a few more examples of common activation functions: Tanh (hyperbolic tangent), and ReLU (rectified linear unit).\n",
    "\n",
    "<img src=\"assets/activation.png\" width=700px>\n",
    "\n",
    "In practice, the ReLU function is used almost exclusively as the activation function for hidden layers."
   ]
  },
  {
   "cell_type": "markdown",
   "metadata": {},
   "source": [
    "### Your Turn to Build a Network\n",
    "\n",
    "<img src=\"assets/mlp_mnist.png\" width=600px>\n",
    "\n",
    "> **Exercise:** Create a network with 784 input units, a hidden layer with 128 units and a ReLU activation, then a hidden layer with 64 units and a ReLU activation, and finally an output layer with a softmax activation as shown above. You can use a ReLU activation with the `nn.ReLU` module or `F.relu` function.\n",
    "\n",
    "It's good practice to name your layers by their type of network, for instance 'fc' to represent a fully-connected layer. As you code your solution, use `fc1`, `fc2`, and `fc3` as your layer names."
   ]
  },
  {
   "cell_type": "code",
   "execution_count": null,
   "metadata": {
    "collapsed": true,
    "scrolled": true
   },
   "outputs": [],
   "source": [
    "## Your solution here\n"
   ]
  },
  {
   "cell_type": "markdown",
   "metadata": {},
   "source": [
    "### Initializing weights and biases\n",
    "\n",
    "The weights and such are automatically initialized for you, but it's possible to customize how they are initialized. The weights and biases are tensors attached to the layer you defined, you can get them with `model.fc1.weight` for instance."
   ]
  },
  {
   "cell_type": "code",
   "execution_count": null,
   "metadata": {
    "collapsed": true
   },
   "outputs": [],
   "source": [
    "print(model.fc1.weight)\n",
    "print(model.fc1.bias)"
   ]
  },
  {
   "cell_type": "markdown",
   "metadata": {},
   "source": [
    "For custom initialization, we want to modify these tensors in place. These are actually autograd *Variables*, so we need to get back the actual tensors with `model.fc1.weight.data`. Once we have the tensors, we can fill them with zeros (for biases) or random normal values."
   ]
  },
  {
   "cell_type": "code",
   "execution_count": null,
   "metadata": {
    "collapsed": true
   },
   "outputs": [],
   "source": [
    "# Set biases to all zeros\n",
    "model.fc1.bias.data.fill_(0)"
   ]
  },
  {
   "cell_type": "code",
   "execution_count": null,
   "metadata": {
    "collapsed": true
   },
   "outputs": [],
   "source": [
    "# sample from random normal with standard dev = 0.01\n",
    "model.fc1.weight.data.normal_(std=0.01)"
   ]
  },
  {
   "cell_type": "markdown",
   "metadata": {},
   "source": [
    "### Forward pass\n",
    "\n",
    "Now that we have a network, let's see what happens when we pass in an image."
   ]
  },
  {
   "cell_type": "code",
   "execution_count": null,
   "metadata": {
    "collapsed": true
   },
   "outputs": [],
   "source": [
    "# Grab some data \n",
    "dataiter = iter(trainloader)\n",
    "images, labels = dataiter.next()\n",
    "\n",
    "# Resize images into a 1D vector, new shape is (batch size, color channels, image pixels) \n",
    "images.resize_(64, 1, 784)\n",
    "# or images.resize_(images.shape[0], 1, 784) to automatically get batch size\n",
    "\n",
    "# Forward pass through the network\n",
    "img_idx = 0\n",
    "ps = model.forward(images[img_idx,:])\n",
    "\n",
    "img = images[img_idx]\n",
    "helper.view_classify(img.view(1, 28, 28), ps)"
   ]
  },
  {
   "cell_type": "markdown",
   "metadata": {},
   "source": [
    "As you can see above, our network has basically no idea what this digit is. It's because we haven't trained it yet, all the weights are random!\n",
    "\n",
    "### Using `nn.Sequential`\n",
    "\n",
    "PyTorch provides a convenient way to build networks like this where a tensor is passed sequentially through operations, `nn.Sequential` ([documentation](https://pytorch.org/docs/master/nn.html#torch.nn.Sequential)). Using this to build the equivalent network:"
   ]
  },
  {
   "cell_type": "code",
   "execution_count": null,
   "metadata": {
    "collapsed": true
   },
   "outputs": [],
   "source": [
    "# Hyperparameters for our network\n",
    "input_size = 784\n",
    "hidden_sizes = [128, 64]\n",
    "output_size = 10\n",
    "\n",
    "# Build a feed-forward network\n",
    "model = nn.Sequential(nn.Linear(input_size, hidden_sizes[0]),\n",
    "                      nn.ReLU(),\n",
    "                      nn.Linear(hidden_sizes[0], hidden_sizes[1]),\n",
    "                      nn.ReLU(),\n",
    "                      nn.Linear(hidden_sizes[1], output_size),\n",
    "                      nn.Softmax(dim=1))\n",
    "print(model)\n",
    "\n",
    "# Forward pass through the network and display output\n",
    "images, labels = next(iter(trainloader))\n",
    "images.resize_(images.shape[0], 1, 784)\n",
    "ps = model.forward(images[0,:])\n",
    "helper.view_classify(images[0].view(1, 28, 28), ps)"
   ]
  },
  {
   "cell_type": "markdown",
   "metadata": {},
   "source": [
    "Here our model is the same as before: 784 input units, a hidden layer with 128 units, ReLU activation, 64 unit hidden layer, another ReLU, then the output layer with 10 units, and the softmax output.\n",
    "\n",
    "The operations are available by passing in the appropriate index. For example, if you want to get first Linear operation and look at the weights, you'd use `model[0]`."
   ]
  },
  {
   "cell_type": "code",
   "execution_count": null,
   "metadata": {
    "collapsed": true
   },
   "outputs": [],
   "source": [
    "print(model[0])\n",
    "model[0].weight"
   ]
  },
  {
   "cell_type": "markdown",
   "metadata": {},
   "source": [
    "You can also pass in an `OrderedDict` to name the individual layers and operations, instead of using incremental integers. Note that dictionary keys must be unique, so _each operation must have a different name_."
   ]
  },
  {
   "cell_type": "code",
   "execution_count": null,
   "metadata": {
    "collapsed": true
   },
   "outputs": [],
   "source": [
    "from collections import OrderedDict\n",
    "model = nn.Sequential(OrderedDict([\n",
    "                      ('fc1', nn.Linear(input_size, hidden_sizes[0])),\n",
    "                      ('relu1', nn.ReLU()),\n",
    "                      ('fc2', nn.Linear(hidden_sizes[0], hidden_sizes[1])),\n",
    "                      ('relu2', nn.ReLU()),\n",
    "                      ('output', nn.Linear(hidden_sizes[1], output_size)),\n",
    "                      ('softmax', nn.Softmax(dim=1))]))\n",
    "model"
   ]
  },
  {
   "cell_type": "markdown",
   "metadata": {},
   "source": [
    "Now you can access layers either by integer or the name"
   ]
  },
  {
   "cell_type": "code",
   "execution_count": null,
   "metadata": {
    "collapsed": true
   },
   "outputs": [],
   "source": [
    "print(model[0])\n",
    "print(model.fc1)"
   ]
  },
  {
   "cell_type": "markdown",
   "metadata": {},
   "source": [
    "In the next notebook, we'll see how we can train a neural network to accuractly predict the numbers appearing in the MNIST images."
   ]
  }
 ],
 "metadata": {
  "kernelspec": {
   "display_name": "Python 3",
   "language": "python",
   "name": "python3"
  },
  "language_info": {
   "codemirror_mode": {
    "name": "ipython",
    "version": 3
   },
   "file_extension": ".py",
   "mimetype": "text/x-python",
   "name": "python",
   "nbconvert_exporter": "python",
   "pygments_lexer": "ipython3",
   "version": "3.6.8"
  }
 },
 "nbformat": 4,
 "nbformat_minor": 2
}
