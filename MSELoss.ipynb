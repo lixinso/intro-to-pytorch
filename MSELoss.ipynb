{
  "nbformat": 4,
  "nbformat_minor": 0,
  "metadata": {
    "colab": {
      "name": "MSELoss.ipynb",
      "provenance": [],
      "collapsed_sections": [],
      "authorship_tag": "ABX9TyO6lY+7zwiM7STARZXFaf4w",
      "include_colab_link": true
    },
    "kernelspec": {
      "name": "python3",
      "display_name": "Python 3"
    }
  },
  "cells": [
    {
      "cell_type": "markdown",
      "metadata": {
        "id": "view-in-github",
        "colab_type": "text"
      },
      "source": [
        "<a href=\"https://colab.research.google.com/github/lixinso/sample-intro-to-pytorch/blob/master/MSELoss.ipynb\" target=\"_parent\"><img src=\"https://colab.research.google.com/assets/colab-badge.svg\" alt=\"Open In Colab\"/></a>"
      ]
    },
    {
      "cell_type": "code",
      "metadata": {
        "id": "9ntLtK09IFob",
        "colab_type": "code",
        "colab": {}
      },
      "source": [
        "import torch.nn as nn\n",
        "import torch"
      ],
      "execution_count": 0,
      "outputs": []
    },
    {
      "cell_type": "code",
      "metadata": {
        "id": "QhvbZmv6IXCj",
        "colab_type": "code",
        "colab": {}
      },
      "source": [
        ""
      ],
      "execution_count": 0,
      "outputs": []
    },
    {
      "cell_type": "code",
      "metadata": {
        "id": "oxwX1l1QIZbM",
        "colab_type": "code",
        "colab": {
          "base_uri": "https://localhost:8080/",
          "height": 90
        },
        "outputId": "ad5260a3-a1fc-4ade-cfac-65c03263f8eb"
      },
      "source": [
        "A = torch.randn([2, 14])\n",
        "A"
      ],
      "execution_count": 12,
      "outputs": [
        {
          "output_type": "execute_result",
          "data": {
            "text/plain": [
              "tensor([[-0.5919, -1.1840, -1.3685,  0.2383, -0.7372, -1.1504,  0.3397,  1.3020,\n",
              "          0.3166, -0.3053,  1.4559,  0.9601, -0.6443,  0.4933],\n",
              "        [ 0.3585,  0.2000, -1.2419,  0.3809, -1.6868,  1.1564,  2.0062,  0.3639,\n",
              "         -0.3848,  2.1135,  2.4622, -0.8249, -0.2167, -1.8941]])"
            ]
          },
          "metadata": {
            "tags": []
          },
          "execution_count": 12
        }
      ]
    },
    {
      "cell_type": "code",
      "metadata": {
        "id": "e-K7giHuIf03",
        "colab_type": "code",
        "colab": {
          "base_uri": "https://localhost:8080/",
          "height": 90
        },
        "outputId": "2ed14ea5-a595-4d16-aeaf-857054032129"
      },
      "source": [
        "B = torch.randn([2, 14])\n",
        "B"
      ],
      "execution_count": 13,
      "outputs": [
        {
          "output_type": "execute_result",
          "data": {
            "text/plain": [
              "tensor([[-1.1433, -0.7849, -0.3413, -0.2473, -2.3327, -0.0731, -0.2575, -0.3972,\n",
              "         -1.7071,  1.8025,  1.9440, -1.7540, -0.7061, -1.1375],\n",
              "        [ 0.4481, -1.4325,  0.2218,  0.3253,  1.4766,  0.4013,  0.3611,  0.6924,\n",
              "         -0.8709,  1.6695,  1.1754,  1.0373, -0.5859, -0.0760]])"
            ]
          },
          "metadata": {
            "tags": []
          },
          "execution_count": 13
        }
      ]
    },
    {
      "cell_type": "code",
      "metadata": {
        "id": "R5uSy6J8Il2J",
        "colab_type": "code",
        "colab": {}
      },
      "source": [
        "#nn.MSELoss(A,B)\n",
        "#RuntimeError: bool value of Tensor with more than one value is ambiguous"
      ],
      "execution_count": 0,
      "outputs": []
    },
    {
      "cell_type": "code",
      "metadata": {
        "id": "nytymbU1KXJJ",
        "colab_type": "code",
        "colab": {
          "base_uri": "https://localhost:8080/",
          "height": 35
        },
        "outputId": "aa4851f2-6bcc-46c1-876e-5650c1c5e483"
      },
      "source": [
        "loss1 = nn.MSELoss()\n",
        "loss1(A,B)"
      ],
      "execution_count": 15,
      "outputs": [
        {
          "output_type": "execute_result",
          "data": {
            "text/plain": [
              "tensor(1.9543)"
            ]
          },
          "metadata": {
            "tags": []
          },
          "execution_count": 15
        }
      ]
    },
    {
      "cell_type": "code",
      "metadata": {
        "id": "OibsFBA2QZhF",
        "colab_type": "code",
        "colab": {
          "base_uri": "https://localhost:8080/",
          "height": 199
        },
        "outputId": "d096fc97-9e43-44aa-9952-9420ddf89ecb"
      },
      "source": [
        "loss_arr = []\n",
        " \n",
        "for i in range(A.shape[0]):\n",
        "  print(A[i])\n",
        "  print(B[i])\n",
        "  loss_arr.append(loss1(A[i], B[i]))\n",
        "  \n",
        "print(loss_arr)\n",
        "loss_tensor = torch.stack(loss_arr)\n",
        "\n",
        "print(loss_tensor)"
      ],
      "execution_count": 29,
      "outputs": [
        {
          "output_type": "stream",
          "text": [
            "tensor([-0.5919, -1.1840, -1.3685,  0.2383, -0.7372, -1.1504,  0.3397,  1.3020,\n",
            "         0.3166, -0.3053,  1.4559,  0.9601, -0.6443,  0.4933])\n",
            "tensor([-1.1433, -0.7849, -0.3413, -0.2473, -2.3327, -0.0731, -0.2575, -0.3972,\n",
            "        -1.7071,  1.8025,  1.9440, -1.7540, -0.7061, -1.1375])\n",
            "tensor([ 0.3585,  0.2000, -1.2419,  0.3809, -1.6868,  1.1564,  2.0062,  0.3639,\n",
            "        -0.3848,  2.1135,  2.4622, -0.8249, -0.2167, -1.8941])\n",
            "tensor([ 0.4481, -1.4325,  0.2218,  0.3253,  1.4766,  0.4013,  0.3611,  0.6924,\n",
            "        -0.8709,  1.6695,  1.1754,  1.0373, -0.5859, -0.0760])\n",
            "[tensor(1.9650), tensor(1.9436)]\n",
            "tensor([1.9650, 1.9436])\n"
          ],
          "name": "stdout"
        }
      ]
    },
    {
      "cell_type": "code",
      "metadata": {
        "id": "C-57-wyYOzeC",
        "colab_type": "code",
        "colab": {
          "base_uri": "https://localhost:8080/",
          "height": 35
        },
        "outputId": "caf22a0f-76f7-4cc6-fad2-8329a9dd68e6"
      },
      "source": [
        "import torch.nn.functional as F\n",
        "F.mse_loss(A,B)"
      ],
      "execution_count": 19,
      "outputs": [
        {
          "output_type": "execute_result",
          "data": {
            "text/plain": [
              "tensor(1.9543)"
            ]
          },
          "metadata": {
            "tags": []
          },
          "execution_count": 19
        }
      ]
    },
    {
      "cell_type": "code",
      "metadata": {
        "id": "IkW9dOmGJyBm",
        "colab_type": "code",
        "colab": {
          "base_uri": "https://localhost:8080/",
          "height": 145
        },
        "outputId": "7ced34f6-8c5f-4c52-da75-814c1be293f4"
      },
      "source": [
        "#https://pytorch.org/docs/stable/nn.html\n",
        "loss = nn.MSELoss()\n",
        "#input = torch.randn(3, 5, requires_grad=True)\n",
        "input = torch.randn(3, 5)\n",
        "print(input)\n",
        "target = torch.randn(3, 5)\n",
        "print(target)\n",
        "output = loss(input, target)\n",
        "#output.backward()\n",
        "print(output)"
      ],
      "execution_count": 16,
      "outputs": [
        {
          "output_type": "stream",
          "text": [
            "tensor([[-0.0050, -1.2103,  0.9540, -0.6561, -0.5217],\n",
            "        [-0.4056,  0.4591,  0.9415,  0.5774, -0.2199],\n",
            "        [-0.6606,  0.7710, -1.1262,  1.2495,  1.5977]])\n",
            "tensor([[ 1.3077, -0.6210,  0.3232,  0.1827, -0.3173],\n",
            "        [-2.3596, -0.4654, -0.0589, -1.9526,  1.3699],\n",
            "        [-1.0124, -0.5670, -2.1607, -0.8146,  2.0108]])\n",
            "tensor(1.6821)\n"
          ],
          "name": "stdout"
        }
      ]
    },
    {
      "cell_type": "code",
      "metadata": {
        "id": "n3L8KJaUIpG3",
        "colab_type": "code",
        "colab": {
          "base_uri": "https://localhost:8080/",
          "height": 35
        },
        "outputId": "f378f12b-a50b-4455-bff1-dcf377fb047c"
      },
      "source": [
        "output"
      ],
      "execution_count": 17,
      "outputs": [
        {
          "output_type": "execute_result",
          "data": {
            "text/plain": [
              "tensor(1.6821)"
            ]
          },
          "metadata": {
            "tags": []
          },
          "execution_count": 17
        }
      ]
    },
    {
      "cell_type": "code",
      "metadata": {
        "id": "UymnqtNuJ9Nl",
        "colab_type": "code",
        "colab": {}
      },
      "source": [
        ""
      ],
      "execution_count": 0,
      "outputs": []
    }
  ]
}