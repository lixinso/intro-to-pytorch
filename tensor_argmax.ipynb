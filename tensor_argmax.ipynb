{
  "nbformat": 4,
  "nbformat_minor": 0,
  "metadata": {
    "colab": {
      "name": "tensor_argmax.ipynb",
      "provenance": [],
      "authorship_tag": "ABX9TyPn5DdfhUJuYypCWKC9RboS",
      "include_colab_link": true
    },
    "kernelspec": {
      "name": "python3",
      "display_name": "Python 3"
    }
  },
  "cells": [
    {
      "cell_type": "markdown",
      "metadata": {
        "id": "view-in-github",
        "colab_type": "text"
      },
      "source": [
        "<a href=\"https://colab.research.google.com/github/lixinso/sample-intro-to-pytorch/blob/master/tensor_argmax.ipynb\" target=\"_parent\"><img src=\"https://colab.research.google.com/assets/colab-badge.svg\" alt=\"Open In Colab\"/></a>"
      ]
    },
    {
      "cell_type": "code",
      "metadata": {
        "id": "NJAJ25E0htts",
        "colab_type": "code",
        "colab": {}
      },
      "source": [
        "import torch"
      ],
      "execution_count": 0,
      "outputs": []
    },
    {
      "cell_type": "code",
      "metadata": {
        "id": "IO1E3DsBhqmQ",
        "colab_type": "code",
        "colab": {}
      },
      "source": [
        "te = torch.tensor([[0., 0., 0., 0., 0., 0., 0., 1.],\n",
        "        [0., 0., 0., 1., 0., 0., 0., 0.],\n",
        "        [1., 0., 0., 0., 0., 0., 0., 0.]])"
      ],
      "execution_count": 0,
      "outputs": []
    },
    {
      "cell_type": "code",
      "metadata": {
        "id": "rPJGJCsOh5dO",
        "colab_type": "code",
        "colab": {
          "base_uri": "https://localhost:8080/",
          "height": 34
        },
        "outputId": "2ecf5fad-c945-4ba1-b4fc-2265c3fb9886"
      },
      "source": [
        "te.max(1)"
      ],
      "execution_count": 6,
      "outputs": [
        {
          "output_type": "execute_result",
          "data": {
            "text/plain": [
              "torch.return_types.max(values=tensor([1., 1., 1.]), indices=tensor([7, 3, 0]))"
            ]
          },
          "metadata": {
            "tags": []
          },
          "execution_count": 6
        }
      ]
    },
    {
      "cell_type": "code",
      "metadata": {
        "id": "DWH0bfx4iL78",
        "colab_type": "code",
        "colab": {}
      },
      "source": [
        "te.max(0)"
      ],
      "execution_count": 0,
      "outputs": []
    }
  ]
}