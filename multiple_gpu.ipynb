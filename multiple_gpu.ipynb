{
  "nbformat": 4,
  "nbformat_minor": 0,
  "metadata": {
    "colab": {
      "name": "multiple_gpu.ipynb",
      "provenance": [],
      "authorship_tag": "ABX9TyMG/sYap4PFbnBFO6/sBFbH",
      "include_colab_link": true
    },
    "kernelspec": {
      "name": "python3",
      "display_name": "Python 3"
    }
  },
  "cells": [
    {
      "cell_type": "markdown",
      "metadata": {
        "id": "view-in-github",
        "colab_type": "text"
      },
      "source": [
        "<a href=\"https://colab.research.google.com/github/lixinso/sample-intro-to-pytorch/blob/master/multiple_gpu.ipynb\" target=\"_parent\"><img src=\"https://colab.research.google.com/assets/colab-badge.svg\" alt=\"Open In Colab\"/></a>"
      ]
    },
    {
      "cell_type": "code",
      "metadata": {
        "id": "5-DZRF4MZIRB",
        "colab_type": "code",
        "colab": {}
      },
      "source": [
        "# https://pytorch.org/tutorials/beginner/former_torchies/parallelism_tutorial.html\n",
        "# https://pytorch.org/tutorials/beginner/blitz/data_parallel_tutorial.html"
      ],
      "execution_count": 0,
      "outputs": []
    }
  ]
}