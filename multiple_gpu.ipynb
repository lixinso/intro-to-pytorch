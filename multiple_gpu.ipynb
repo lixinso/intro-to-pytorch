{
  "nbformat": 4,
  "nbformat_minor": 0,
  "metadata": {
    "colab": {
      "name": "multiple_gpu.ipynb",
      "provenance": [],
      "collapsed_sections": [],
      "authorship_tag": "ABX9TyOAM0m2e4VxhgT6anhDCfg0",
      "include_colab_link": true
    },
    "kernelspec": {
      "name": "python3",
      "display_name": "Python 3"
    }
  },
  "cells": [
    {
      "cell_type": "markdown",
      "metadata": {
        "id": "view-in-github",
        "colab_type": "text"
      },
      "source": [
        "<a href=\"https://colab.research.google.com/github/lixinso/sample-intro-to-pytorch/blob/master/multiple_gpu.ipynb\" target=\"_parent\"><img src=\"https://colab.research.google.com/assets/colab-badge.svg\" alt=\"Open In Colab\"/></a>"
      ]
    },
    {
      "cell_type": "code",
      "metadata": {
        "id": "5-DZRF4MZIRB",
        "colab_type": "code",
        "colab": {}
      },
      "source": [
        "# https://pytorch.org/tutorials/beginner/former_torchies/parallelism_tutorial.html\n",
        "# https://pytorch.org/tutorials/beginner/blitz/data_parallel_tutorial.html"
      ],
      "execution_count": 0,
      "outputs": []
    },
    {
      "cell_type": "code",
      "metadata": {
        "id": "tiXu4-AcbMAb",
        "colab_type": "code",
        "colab": {}
      },
      "source": [
        "import torch\n",
        "import torch.nn as nn\n",
        "from torch.utils.data import Dataset, DataLoader"
      ],
      "execution_count": 0,
      "outputs": []
    },
    {
      "cell_type": "code",
      "metadata": {
        "id": "4KUfnpC4bbD4",
        "colab_type": "code",
        "colab": {}
      },
      "source": [
        "input_size = 5\n",
        "output_size = 2\n",
        "batch_size = 30\n",
        "data_size = 100"
      ],
      "execution_count": 0,
      "outputs": []
    },
    {
      "cell_type": "code",
      "metadata": {
        "id": "UNBeMqYMbQ8S",
        "colab_type": "code",
        "colab": {}
      },
      "source": [
        "device = torch.device(\"cuda:0\" if torch.cuda.is_available() else \"cpu\")"
      ],
      "execution_count": 0,
      "outputs": []
    },
    {
      "cell_type": "code",
      "metadata": {
        "id": "nZbCMZpUbo3W",
        "colab_type": "code",
        "colab": {
          "base_uri": "https://localhost:8080/",
          "height": 34
        },
        "outputId": "9734e0b5-51d0-4bf7-a924-2a480a26ae51"
      },
      "source": [
        "device"
      ],
      "execution_count": 5,
      "outputs": [
        {
          "output_type": "execute_result",
          "data": {
            "text/plain": [
              "device(type='cpu')"
            ]
          },
          "metadata": {
            "tags": []
          },
          "execution_count": 5
        }
      ]
    },
    {
      "cell_type": "code",
      "metadata": {
        "id": "-T-yFwZZbpne",
        "colab_type": "code",
        "colab": {}
      },
      "source": [
        "#!nvidia-smi"
      ],
      "execution_count": 0,
      "outputs": []
    },
    {
      "cell_type": "code",
      "metadata": {
        "id": "ab8sYNdpbyUg",
        "colab_type": "code",
        "colab": {}
      },
      "source": [
        "class RandomDataset(Dataset):\n",
        "\n",
        "  def __init__(self, size, length):\n",
        "    self.len = length\n",
        "    self.data = torch.randn(length, size)\n",
        "\n",
        "  def __getitem__(self, index):\n",
        "    return self.data[index]\n",
        "\n",
        "  def __len__(self):\n",
        "    return self.len\n",
        "\n",
        "\n",
        "rand_loader = DataLoader(dataset = RandomDataset(input_size, data_size),\n",
        "                         batch_size=batch_size, shuffle=True)"
      ],
      "execution_count": 0,
      "outputs": []
    },
    {
      "cell_type": "code",
      "metadata": {
        "id": "m6Ol1JfsduWO",
        "colab_type": "code",
        "colab": {}
      },
      "source": [
        "class Model(nn.Module):\n",
        "\n",
        "  def __init__(self, input_size, output_size):\n",
        "    super(Model, self).__init__()\n",
        "    self.fc = nn.Linear(input_size, output_size)\n",
        "\n",
        "  def forward(self, input):\n",
        "    output = self.fc(input)\n",
        "\n",
        "    print(\"\\t In Model: input size\", input.size(), \"output size\", output.size())\n",
        "\n",
        "    return output"
      ],
      "execution_count": 0,
      "outputs": []
    },
    {
      "cell_type": "code",
      "metadata": {
        "id": "WFXKCLhQcUTj",
        "colab_type": "code",
        "colab": {
          "base_uri": "https://localhost:8080/",
          "height": 68
        },
        "outputId": "547393fb-dd6a-4933-d02d-baa0080d012e"
      },
      "source": [
        "model = Model(input_size, output_size)\n",
        "if torch.cuda.device_count() > 1:\n",
        "#if True:\n",
        "  print(\"Lets use \", torch.cuda.device_count(), \" GPUs\")\n",
        "  model = nn.DataParallel(model)\n",
        "\n",
        "model.to(device)"
      ],
      "execution_count": 9,
      "outputs": [
        {
          "output_type": "execute_result",
          "data": {
            "text/plain": [
              "Model(\n",
              "  (fc): Linear(in_features=5, out_features=2, bias=True)\n",
              ")"
            ]
          },
          "metadata": {
            "tags": []
          },
          "execution_count": 9
        }
      ]
    },
    {
      "cell_type": "code",
      "metadata": {
        "id": "EvdrZ87deYOG",
        "colab_type": "code",
        "colab": {
          "base_uri": "https://localhost:8080/",
          "height": 153
        },
        "outputId": "60b90207-5125-4efe-a854-756085a65793"
      },
      "source": [
        "for data in rand_loader:\n",
        "  input = data.to(device)\n",
        "  output = model(input)\n",
        "  print(\"OUtside : input size\", input.size(), \"output_size\", output.size)"
      ],
      "execution_count": 10,
      "outputs": [
        {
          "output_type": "stream",
          "text": [
            "\t In Model: input size torch.Size([30, 5]) output size torch.Size([30, 2])\n",
            "OUtside : input size torch.Size([30, 5]) output_size <built-in method size of Tensor object at 0x7ff92c949090>\n",
            "\t In Model: input size torch.Size([30, 5]) output size torch.Size([30, 2])\n",
            "OUtside : input size torch.Size([30, 5]) output_size <built-in method size of Tensor object at 0x7ff92c949168>\n",
            "\t In Model: input size torch.Size([30, 5]) output size torch.Size([30, 2])\n",
            "OUtside : input size torch.Size([30, 5]) output_size <built-in method size of Tensor object at 0x7ff92c9492d0>\n",
            "\t In Model: input size torch.Size([10, 5]) output size torch.Size([10, 2])\n",
            "OUtside : input size torch.Size([10, 5]) output_size <built-in method size of Tensor object at 0x7ff92c949048>\n"
          ],
          "name": "stdout"
        }
      ]
    },
    {
      "cell_type": "code",
      "metadata": {
        "id": "oPJCxMRPeo24",
        "colab_type": "code",
        "colab": {}
      },
      "source": [
        ""
      ],
      "execution_count": 0,
      "outputs": []
    }
  ]
}